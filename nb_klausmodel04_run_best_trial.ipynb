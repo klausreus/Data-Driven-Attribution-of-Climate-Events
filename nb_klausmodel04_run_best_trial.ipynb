{
 "cells": [
  {
   "cell_type": "markdown",
   "metadata": {
    "tags": []
   },
   "source": [
    "# Klaus' Setup:<br>Layerwise Relevance Propagation\n",
    "***"
   ]
  },
  {
   "cell_type": "code",
   "execution_count": 1,
   "metadata": {},
   "outputs": [],
   "source": [
    "import numpy as np\n",
    "import pandas as pd \n",
    "import xarray as xr\n",
    "\n",
    "import matplotlib.pyplot as plt\n",
    "%matplotlib inline\n",
    "import matplotlib as mpl\n",
    "\n",
    "import scipy.stats as st\n",
    "from sklearn.model_selection import KFold\n",
    "from sklearn.utils import shuffle\n",
    "\n",
    "import tensorflow as tf\n",
    "from tensorflow import keras\n",
    "from tensorflow.keras import layers"
   ]
  },
  {
   "cell_type": "markdown",
   "metadata": {},
   "source": [
    "<br>\n",
    "\n",
    "## 1. Data Loading\n",
    "***"
   ]
  },
  {
   "cell_type": "markdown",
   "metadata": {},
   "source": [
    "**feat_pc:** Principal Components of climate indices. Used for model input.  \n",
    "**labels:** from Sahelrainfall data serves as reference data."
   ]
  },
  {
   "cell_type": "code",
   "execution_count": 2,
   "metadata": {},
   "outputs": [],
   "source": [
    "features = xr.open_dataset('data/da_final_klausmodel.nc').feat_pc.values\n",
    "labels = xr.open_dataset('data/da_final_klausmodel.nc').labels.values"
   ]
  },
  {
   "cell_type": "markdown",
   "metadata": {},
   "source": [
    "<br>\n",
    "\n",
    "## 2. MODEL SETUP\n",
    "***"
   ]
  },
  {
   "cell_type": "markdown",
   "metadata": {},
   "source": [
    "<br>\n",
    "\n",
    "### Build Model Function\n",
    "---"
   ]
  },
  {
   "cell_type": "code",
   "execution_count": 3,
   "metadata": {},
   "outputs": [],
   "source": [
    "def BuildModel(HPARAMS):\n",
    "    model = keras.Sequential([\n",
    "#         layers.Dropout(0.1, input_shape=(20,)),\n",
    "        layers.Dense(HPARAMS['n_units_l1'], 'relu' ,name=\"layer1\", input_shape=(20,)),\n",
    "        layers.Dropout(HPARAMS['dropout'], name='Dropout1'),\n",
    "        \n",
    "        layers.Dense(HPARAMS['n_units_l2'], 'relu', name=\"layer2\"),\n",
    "        layers.Dropout(HPARAMS['dropout'], name='Dropout2'),\n",
    "        \n",
    "        layers.Dense(HPARAMS['n_units_l3'], 'relu', name=\"layer3\"),\n",
    "        layers.Dropout(HPARAMS['dropout'], name='Dropout3'),\n",
    "        \n",
    "        layers.Dense(HPARAMS['n_units_l4'], 'relu', name=\"layer4\"),\n",
    "        layers.Dropout(HPARAMS['dropout'], name='Dropout4'),\n",
    "        \n",
    "        layers.Dense(HPARAMS['n_units_l5'], 'relu', name=\"layer5\"),\n",
    "        \n",
    "        \n",
    "        layers.Dense(1, name='output'), #activation='linear'\n",
    "    ])\n",
    "    model.compile(\n",
    "        loss='mean_squared_error',\n",
    "        optimizer=keras.optimizers.Adam(\n",
    "            learning_rate=HPARAMS['learn_rate']\n",
    "        )\n",
    "    )\n",
    "    return model"
   ]
  },
  {
   "cell_type": "markdown",
   "metadata": {},
   "source": [
    "<br>\n",
    "\n",
    "### Hyperparameters\n",
    "***"
   ]
  },
  {
   "cell_type": "code",
   "execution_count": 4,
   "metadata": {},
   "outputs": [
    {
     "name": "stdout",
     "output_type": "stream",
     "text": [
      "{'learn_rate': 0.0031504286078616, 'n_units_l1': 60, 'n_units_l2': 50, 'n_units_l3': 30, 'n_units_l4': 30, 'n_units_l5': 50, 'batch_size': 7, 'dropout': 0.2143024272665847}\n"
     ]
    }
   ],
   "source": [
    "### choose parameters ###\n",
    "HPARAMS = np.load('evaluation/klausmodel/fourth.npy', allow_pickle=1).item()\n",
    "print(HPARAMS)\n",
    "\n",
    "earlystop = tf.keras.callbacks.EarlyStopping(monitor='loss', patience=10)\n",
    "\n",
    "k = 10 # number of 'folds' -> sample size as in Badr\n"
   ]
  },
  {
   "cell_type": "markdown",
   "metadata": {},
   "source": [
    "<br>\n",
    "\n",
    "## 3. Run Model\n",
    "***"
   ]
  },
  {
   "cell_type": "code",
   "execution_count": 5,
   "metadata": {},
   "outputs": [
    {
     "name": "stdout",
     "output_type": "stream",
     "text": [
      "CPU times: user 28.9 s, sys: 7.97 s, total: 36.8 s\n",
      "Wall time: 14.5 s\n"
     ]
    }
   ],
   "source": [
    "%%time\n",
    "\n",
    "# define error metrics:\n",
    "mae_train = []\n",
    "mad_train = []\n",
    "mse_train = []\n",
    "rmse_train = []\n",
    "corr_train = []\n",
    "\n",
    "mae_test = []\n",
    "mad_test = []\n",
    "mse_test = []\n",
    "rmse_test = []\n",
    "corr_test = []\n",
    "\n",
    "training_length = []\n",
    "\n",
    "splits = [{'train': t, 'test': s} for t, s in KFold(n_splits=k, shuffle=True, random_state=712).split(features)]\n",
    "\n",
    "for split in splits:                      #KFold\n",
    "\n",
    "    train_index = shuffle(split['train'], random_state=712)\n",
    "    test_index  = shuffle(split['test'], random_state=712)\n",
    "    \n",
    "    # print(\"TRAIN:\", train_index, \"TEST:\", test_index)\n",
    "    \n",
    "    # Build the model according to definition:\n",
    "    model = BuildModel(HPARAMS)\n",
    "    \n",
    "\n",
    "    #Train the model \n",
    "    train_history = model.fit(\n",
    "        features[train_index],\n",
    "        labels[train_index],\n",
    "        batch_size=HPARAMS['batch_size'],\n",
    "        epochs=200,\n",
    "        verbose=0,\n",
    "        callbacks=earlystop\n",
    "    )\n",
    "\n",
    "    \n",
    "    #Run the model for insample data:\n",
    "    y_train= np.squeeze(model.predict(features[train_index]))\n",
    "    \n",
    "    # ... and for out of sample data\n",
    "    y_test = np.squeeze(model.predict(features[test_index]))\n",
    "    \n",
    "    \n",
    "    # save errors into numpy arrays:\n",
    "    e_train =  y_train - labels[train_index]\n",
    "    ae_train = np.absolute(e_train)\n",
    "    mae_train = np.append(mae_train, np.mean(ae_train))\n",
    "    mad_train = np.append(mad_train, np.median(np.absolute(e_train - np.median(e_train))))\n",
    "    mse_train = np.append(mse_train, np.mean(e_train**2))\n",
    "    rmse_train = np.append(rmse_train, np.sqrt(mse_train))\n",
    "    corr_train = np.append(corr_train, st.pearsonr(y_train, labels[train_index])[0])\n",
    "    \n",
    "    \n",
    "    e_test =  y_test - labels[test_index]\n",
    "    ae_test = np.absolute(e_test)\n",
    "    mae_test = np.append(mae_test, np.mean(ae_test))\n",
    "    mad_test = np.append(mad_test, np.median(np.absolute(e_test - np.median(e_test))))\n",
    "    mse_test = np.append(mse_test, np.mean(e_test**2))\n",
    "    rmse_test = np.append(rmse_test, np.sqrt(mse_test))\n",
    "    corr_test = np.append(corr_test, st.pearsonr(y_test, labels[test_index])[0])\n",
    "    \n",
    "    training_length = np.append(training_length, len(train_history.history['loss']))"
   ]
  },
  {
   "cell_type": "markdown",
   "metadata": {},
   "source": [
    "<br>\n",
    "\n",
    "## 4. Metrics\n",
    "---"
   ]
  },
  {
   "cell_type": "code",
   "execution_count": 6,
   "metadata": {},
   "outputs": [
    {
     "name": "stdout",
     "output_type": "stream",
     "text": [
      "Training Correlation\n"
     ]
    },
    {
     "data": {
      "text/plain": [
       "array([0.9771815 , 0.98541873, 0.96688016, 0.98143519, 0.96980775,\n",
       "       0.98455458, 0.98433723, 0.98336477, 0.98388937, 0.97245069])"
      ]
     },
     "metadata": {},
     "output_type": "display_data"
    },
    {
     "name": "stdout",
     "output_type": "stream",
     "text": [
      "Test Correlation\n"
     ]
    },
    {
     "data": {
      "text/plain": [
       "array([ 0.50441874,  0.55905835, -0.05178468,  0.61906517,  0.33823152,\n",
       "        0.66575648,  0.39606133,  0.4287849 ,  0.77915181,  0.77847211])"
      ]
     },
     "metadata": {},
     "output_type": "display_data"
    },
    {
     "name": "stdout",
     "output_type": "stream",
     "text": [
      "Training MSE\n"
     ]
    },
    {
     "data": {
      "text/plain": [
       "array([0.40468105, 0.64361286, 0.56866215, 0.607014  , 0.8504103 ,\n",
       "       0.29751183, 0.27986892, 0.41849675, 0.60640763, 0.40770541])"
      ]
     },
     "metadata": {},
     "output_type": "display_data"
    },
    {
     "name": "stdout",
     "output_type": "stream",
     "text": [
      "Test MSE\n"
     ]
    },
    {
     "data": {
      "text/plain": [
       "array([3.71174436, 2.38261055, 2.79382235, 1.68161928, 2.25974364,\n",
       "       4.84729356, 5.79057617, 3.06831316, 2.30232719, 1.84015947])"
      ]
     },
     "metadata": {},
     "output_type": "display_data"
    }
   ],
   "source": [
    "print('Training Correlation')\n",
    "display(corr_train)\n",
    "print('Test Correlation')\n",
    "display(corr_test)\n",
    "print('Training MSE')\n",
    "display(mse_train)\n",
    "print('Test MSE')\n",
    "display(mse_test)"
   ]
  },
  {
   "cell_type": "markdown",
   "metadata": {},
   "source": [
    "#### Training Errors"
   ]
  },
  {
   "cell_type": "code",
   "execution_count": 7,
   "metadata": {},
   "outputs": [
    {
     "data": {
      "text/html": [
       "<div>\n",
       "<style scoped>\n",
       "    .dataframe tbody tr th:only-of-type {\n",
       "        vertical-align: middle;\n",
       "    }\n",
       "\n",
       "    .dataframe tbody tr th {\n",
       "        vertical-align: top;\n",
       "    }\n",
       "\n",
       "    .dataframe thead th {\n",
       "        text-align: right;\n",
       "    }\n",
       "</style>\n",
       "<table border=\"1\" class=\"dataframe\">\n",
       "  <thead>\n",
       "    <tr style=\"text-align: right;\">\n",
       "      <th></th>\n",
       "      <th>corr_mu</th>\n",
       "      <th>corr_sig</th>\n",
       "      <th>mad_mu</th>\n",
       "      <th>mad_sig</th>\n",
       "      <th>mae_mu</th>\n",
       "      <th>mae_sig</th>\n",
       "      <th>mse_mu</th>\n",
       "      <th>mse_sig</th>\n",
       "      <th>rmse_mu</th>\n",
       "      <th>rmse_sig</th>\n",
       "      <th>training_length_mu</th>\n",
       "      <th>training_length_sig</th>\n",
       "    </tr>\n",
       "  </thead>\n",
       "  <tbody>\n",
       "    <tr>\n",
       "      <th>0</th>\n",
       "      <td>0.978932</td>\n",
       "      <td>0.006534</td>\n",
       "      <td>0.374304</td>\n",
       "      <td>0.07772</td>\n",
       "      <td>0.539198</td>\n",
       "      <td>0.09557</td>\n",
       "      <td>0.508437</td>\n",
       "      <td>0.168492</td>\n",
       "      <td>0.719662</td>\n",
       "      <td>0.115837</td>\n",
       "      <td>61.0</td>\n",
       "      <td>16.297239</td>\n",
       "    </tr>\n",
       "  </tbody>\n",
       "</table>\n",
       "</div>"
      ],
      "text/plain": [
       "    corr_mu  corr_sig    mad_mu  mad_sig    mae_mu  mae_sig    mse_mu  \\\n",
       "0  0.978932  0.006534  0.374304  0.07772  0.539198  0.09557  0.508437   \n",
       "\n",
       "    mse_sig   rmse_mu  rmse_sig  training_length_mu  training_length_sig  \n",
       "0  0.168492  0.719662  0.115837                61.0            16.297239  "
      ]
     },
     "execution_count": 7,
     "metadata": {},
     "output_type": "execute_result"
    }
   ],
   "source": [
    "train_errors = pd.DataFrame(\n",
    "    data = {\n",
    "        'corr_mu': [np.nanmean(corr_train)],\n",
    "        'corr_sig': [np.std(corr_train)],\n",
    "        'mad_mu': [np.mean(mad_train)],\n",
    "        'mad_sig': [np.std(mad_train)],\n",
    "        'mae_mu': [np.mean(mae_train)],\n",
    "        'mae_sig': [np.std(mae_train)],\n",
    "        'mse_mu': [np.mean(mse_train)],\n",
    "        'mse_sig': [np.std(mse_train)],\n",
    "        'rmse_mu': [np.mean(rmse_train)],\n",
    "        'rmse_sig': [np.std(rmse_train)],\n",
    "        'training_length_mu': [np.mean(training_length)],\n",
    "        'training_length_sig': [np.std(training_length)],\n",
    "    }\n",
    ")\n",
    "train_errors"
   ]
  },
  {
   "cell_type": "markdown",
   "metadata": {},
   "source": [
    "<br>\n",
    "\n",
    "#### Test Errors"
   ]
  },
  {
   "cell_type": "code",
   "execution_count": 8,
   "metadata": {},
   "outputs": [
    {
     "data": {
      "text/html": [
       "<div>\n",
       "<style scoped>\n",
       "    .dataframe tbody tr th:only-of-type {\n",
       "        vertical-align: middle;\n",
       "    }\n",
       "\n",
       "    .dataframe tbody tr th {\n",
       "        vertical-align: top;\n",
       "    }\n",
       "\n",
       "    .dataframe thead th {\n",
       "        text-align: right;\n",
       "    }\n",
       "</style>\n",
       "<table border=\"1\" class=\"dataframe\">\n",
       "  <thead>\n",
       "    <tr style=\"text-align: right;\">\n",
       "      <th></th>\n",
       "      <th>corr_mu</th>\n",
       "      <th>corr_sig</th>\n",
       "      <th>mad_mu</th>\n",
       "      <th>mad_sig</th>\n",
       "      <th>mae_mu</th>\n",
       "      <th>mae_sig</th>\n",
       "      <th>mse_mu</th>\n",
       "      <th>mse_sig</th>\n",
       "      <th>rmse_mu</th>\n",
       "      <th>rmse_sig</th>\n",
       "    </tr>\n",
       "  </thead>\n",
       "  <tbody>\n",
       "    <tr>\n",
       "      <th>0</th>\n",
       "      <td>0.501722</td>\n",
       "      <td>0.233904</td>\n",
       "      <td>0.994467</td>\n",
       "      <td>0.387898</td>\n",
       "      <td>1.405648</td>\n",
       "      <td>0.239044</td>\n",
       "      <td>3.067821</td>\n",
       "      <td>1.27306</td>\n",
       "      <td>1.725575</td>\n",
       "      <td>0.316843</td>\n",
       "    </tr>\n",
       "  </tbody>\n",
       "</table>\n",
       "</div>"
      ],
      "text/plain": [
       "    corr_mu  corr_sig    mad_mu   mad_sig    mae_mu   mae_sig    mse_mu  \\\n",
       "0  0.501722  0.233904  0.994467  0.387898  1.405648  0.239044  3.067821   \n",
       "\n",
       "   mse_sig   rmse_mu  rmse_sig  \n",
       "0  1.27306  1.725575  0.316843  "
      ]
     },
     "execution_count": 8,
     "metadata": {},
     "output_type": "execute_result"
    }
   ],
   "source": [
    "test_errors = pd.DataFrame(\n",
    "    data = {\n",
    "        'corr_mu': [np.mean(corr_test)],\n",
    "        'corr_sig': [np.std(corr_test)],\n",
    "        'mad_mu': [np.mean(mad_test)],\n",
    "        'mad_sig': [np.std(mad_test)],\n",
    "        'mae_mu': [np.mean(mae_test)],\n",
    "        'mae_sig': [np.std(mae_test)],\n",
    "        'mse_mu': [np.mean(mse_test)],\n",
    "        'mse_sig': [np.std(mse_test)],\n",
    "        'rmse_mu': [np.mean(rmse_test)],\n",
    "        'rmse_sig': [np.std(rmse_test)],\n",
    "    }\n",
    ")\n",
    "test_errors"
   ]
  },
  {
   "cell_type": "markdown",
   "metadata": {},
   "source": [
    "<br>\n",
    "\n",
    "## 5. PLot model output vs Validation Data\n",
    "---"
   ]
  },
  {
   "cell_type": "code",
   "execution_count": 9,
   "metadata": {},
   "outputs": [
    {
     "data": {
      "image/png": "[encoded data removed]",
      "text/plain": [
       "<Figure size 720x360 with 1 Axes>"
      ]
     },
     "metadata": {
      "needs_background": "light"
     },
     "output_type": "display_data"
    }
   ],
   "source": [
    "plt.figure(figsize=(10,5))\n",
    "plt.plot(labels[train_index], label=\"y-original\")\n",
    "plt.plot(y_train, label=\"y-predicted\")\n",
    "plt.legend()\n",
    "plt.show()"
   ]
  },
  {
   "cell_type": "code",
   "execution_count": 10,
   "metadata": {},
   "outputs": [
    {
     "data": {
      "image/png": "[encoded data removed]",
      "text/plain": [
       "<Figure size 720x360 with 1 Axes>"
      ]
     },
     "metadata": {
      "needs_background": "light"
     },
     "output_type": "display_data"
    }
   ],
   "source": [
    "plt.figure(figsize=(10,5))\n",
    "plt.plot(labels[test_index], label=\"y-original\")\n",
    "plt.plot(y_test, label=\"y-predicted\")\n",
    "plt.legend()\n",
    "plt.show()"
   ]
  },
  {
   "cell_type": "markdown",
   "metadata": {},
   "source": [
    "## 6. Save Model\n",
    "---"
   ]
  },
  {
   "cell_type": "code",
   "execution_count": 11,
   "metadata": {},
   "outputs": [],
   "source": [
    "model.save('evaluation/klausmodel/model.h5')   # !CAUTION! WILL OVERWRITE CURRENT SAVED MODEL"
   ]
  }
 ],
 "metadata": {
  "kernelspec": {
   "display_name": "Python 3",
   "language": "python",
   "name": "python3"
  },
  "language_info": {
   "codemirror_mode": {
    "name": "ipython",
    "version": 3
   },
   "file_extension": ".py",
   "mimetype": "text/x-python",
   "name": "python",
   "nbconvert_exporter": "python",
   "pygments_lexer": "ipython3",
   "version": "3.8.8"
  }
 },
 "nbformat": 4,
 "nbformat_minor": 4
}
