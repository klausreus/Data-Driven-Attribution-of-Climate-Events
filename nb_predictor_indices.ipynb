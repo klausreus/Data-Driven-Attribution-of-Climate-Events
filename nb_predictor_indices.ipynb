{
 "cells": [
  {
   "cell_type": "markdown",
   "metadata": {},
   "source": [
    "# Calculate predictors"
   ]
  },
  {
   "cell_type": "markdown",
   "metadata": {},
   "source": [
    "#### Import packages"
   ]
  },
  {
   "cell_type": "code",
   "execution_count": 1,
   "metadata": {},
   "outputs": [],
   "source": [
    "import numpy as np\n",
    "import pandas as pd\n",
    "import xarray as xr"
   ]
  },
  {
   "cell_type": "markdown",
   "metadata": {},
   "source": [
    "# Temporal Range for all indices:\n",
    "\n",
    "Months: AMJ\\\n",
    "Years: 1901 - 2017"
   ]
  },
  {
   "cell_type": "code",
   "execution_count": 2,
   "metadata": {},
   "outputs": [],
   "source": [
    "month_s = 4  # April\n",
    "month_e = 6  # June\n",
    "year_s = 1901\n",
    "year_e = 2017"
   ]
  },
  {
   "cell_type": "markdown",
   "metadata": {},
   "source": [
    "# ERSST Predictors (6)"
   ]
  },
  {
   "cell_type": "markdown",
   "metadata": {},
   "source": [
    "### Define function to select subset, calculate mean, and save to new file\n",
    "\n",
    "This function creates one seasonal value for each year that is regionally averaged.\\\n",
    "It uses raw data - not anomalies or detrended.\n",
    "\n",
    "Can Handle Lon = 0:359 if area crosses 180 meridian\\\n",
    "Or Lon = -180:179 if are crosses 0 median"
   ]
  },
  {
   "cell_type": "code",
   "execution_count": 3,
   "metadata": {},
   "outputs": [],
   "source": [
    "def index_from_ersst(\n",
    "    name, month_s, month_e, year_s, year_e, lat_s, lat_e, lon_s, lon_e\n",
    "):\n",
    "    ersst = xr.open_dataset(\"da_my_ersst.nc\").sst\n",
    "\n",
    "    if np.sign(lon_s) == -1:  # test for input longitude and eventually reshape dataset\n",
    "        i = ersst.lon\n",
    "        ersst = xr.concat(\n",
    "            [ersst.sel(lon=i[(i >= 180)]), ersst.sel(lon=i[(i < 180)])], dim=\"lon\"\n",
    "        )\n",
    "        ersst = ersst.assign_coords({\"lon\": (((ersst.lon + 180) % 360) - 180)})\n",
    "        print(\"data has been reshaped\")\n",
    "\n",
    "    # Now call data in given time and space range and compute means, then save data array to new file\n",
    "\n",
    "    ersst = (\n",
    "        ersst.sel(\n",
    "            time=(ersst[\"time.month\"] >= month_s)\n",
    "            & (ersst[\"time.month\"] <= month_e)\n",
    "            & (ersst[\"time.year\"] >= year_s)\n",
    "            & (ersst[\"time.year\"] <= year_e),\n",
    "            lat=slice(lat_s, lat_e),\n",
    "            lon=slice(lon_s, lon_e),\n",
    "        )\n",
    "        .groupby(\"time.year\")\n",
    "        .mean((\"time\", \"lat\", \"lon\"))\n",
    "    )\n",
    "    ersst.to_netcdf(f\"da_pred_{name}.nc\")\n",
    "    return ersst"
   ]
  },
  {
   "cell_type": "markdown",
   "metadata": {},
   "source": [
    "### SIOD_E - (Eastern Suntropical Indian Ocean)"
   ]
  },
  {
   "cell_type": "code",
   "execution_count": 4,
   "metadata": {},
   "outputs": [],
   "source": [
    "name = \"siod_e\"\n",
    "lat_s = -28\n",
    "lat_e = -18\n",
    "lon_s = 90\n",
    "lon_e = 100\n",
    "\n",
    "siod_e = index_from_ersst(\n",
    "    name, month_s, month_e, year_s, year_e, lat_s, lat_e, lon_s, lon_e\n",
    ")"
   ]
  },
  {
   "cell_type": "markdown",
   "metadata": {},
   "source": [
    "### SIOD_W - (Western Subtropical Indian Ocean)"
   ]
  },
  {
   "cell_type": "code",
   "execution_count": 5,
   "metadata": {},
   "outputs": [],
   "source": [
    "name = \"siod_w\"\n",
    "lat_s = -37\n",
    "lat_e = -27\n",
    "lon_s = 55\n",
    "lon_e = 65\n",
    "\n",
    "siod_w = index_from_ersst(\n",
    "    name, month_s, month_e, year_s, year_e, lat_s, lat_e, lon_s, lon_e\n",
    ")"
   ]
  },
  {
   "cell_type": "markdown",
   "metadata": {},
   "source": [
    "### SST_Med - (Mediterranean Sea)"
   ]
  },
  {
   "cell_type": "code",
   "execution_count": 6,
   "metadata": {},
   "outputs": [],
   "source": [
    "name = \"sst_med\"\n",
    "lat_s = 30\n",
    "lat_e = 45\n",
    "lon_s = 0\n",
    "lon_e = 25\n",
    "\n",
    "sst_med = index_from_ersst(\n",
    "    name, month_s, month_e, year_s, year_e, lat_s, lat_e, lon_s, lon_e\n",
    ")"
   ]
  },
  {
   "cell_type": "markdown",
   "metadata": {},
   "source": [
    "### TSA - (Tropical South Atlantic)"
   ]
  },
  {
   "cell_type": "code",
   "execution_count": 7,
   "metadata": {},
   "outputs": [
    {
     "name": "stdout",
     "output_type": "stream",
     "text": [
      "data has been reshaped\n"
     ]
    }
   ],
   "source": [
    "name = \"tsa\"\n",
    "lat_s = -20\n",
    "lat_e = 0\n",
    "lon_s = -30\n",
    "lon_e = 10\n",
    "\n",
    "tsa = index_from_ersst(\n",
    "    name, month_s, month_e, year_s, year_e, lat_s, lat_e, lon_s, lon_e\n",
    ")"
   ]
  },
  {
   "cell_type": "markdown",
   "metadata": {},
   "source": [
    "### TNA - (Tropical North Atlantic)"
   ]
  },
  {
   "cell_type": "code",
   "execution_count": 8,
   "metadata": {},
   "outputs": [
    {
     "name": "stdout",
     "output_type": "stream",
     "text": [
      "data has been reshaped\n"
     ]
    }
   ],
   "source": [
    "name = \"tna\"\n",
    "lat_s = 5\n",
    "lat_e = 25\n",
    "lon_s = -55\n",
    "lon_e = -15\n",
    "\n",
    "tna = index_from_ersst(\n",
    "    name, month_s, month_e, year_s, year_e, lat_s, lat_e, lon_s, lon_e\n",
    ")"
   ]
  },
  {
   "cell_type": "markdown",
   "metadata": {},
   "source": [
    "### SST_MDR - (Hurricane main development region)"
   ]
  },
  {
   "cell_type": "code",
   "execution_count": 9,
   "metadata": {},
   "outputs": [
    {
     "name": "stdout",
     "output_type": "stream",
     "text": [
      "data has been reshaped\n"
     ]
    }
   ],
   "source": [
    "name = \"sst_mdr\"\n",
    "lat_s = 10\n",
    "lat_e = 20\n",
    "lon_s = -85\n",
    "lon_e = -20\n",
    "\n",
    "tna = index_from_ersst(\n",
    "    name, month_s, month_e, year_s, year_e, lat_s, lat_e, lon_s, lon_e\n",
    ")"
   ]
  },
  {
   "cell_type": "markdown",
   "metadata": {},
   "source": [
    "# SATA Predictors (4)\n",
    "This data comes in global monthly means.\\\n",
    "Here according seasonal means are computed"
   ]
  },
  {
   "cell_type": "markdown",
   "metadata": {},
   "source": [
    "Load the four sata files and merge them together in one xarray ds"
   ]
  },
  {
   "cell_type": "code",
   "execution_count": 10,
   "metadata": {},
   "outputs": [],
   "source": [
    "# function to laod csv files as pandas df and renames index and variable\n",
    "def load_sata(name):\n",
    "    a = (\n",
    "        pd.read_csv(f\"da_o_sata_{name}.csv\", header=4)\n",
    "        .rename(columns={\"Value\": f\"sata_{name}\", \"Year\": \"time\"})\n",
    "        .set_index(\"time\")\n",
    "    )\n",
    "    return a\n",
    "\n",
    "# use function to load and concat the four time series\n",
    "sata = pd.concat(\n",
    "    [load_sata(\"lnh\"), load_sata(\"lsh\"), load_sata(\"onh\"), load_sata(\"osh\")], axis=1\n",
    ").to_xarray()"
   ]
  },
  {
   "cell_type": "markdown",
   "metadata": {},
   "source": [
    "Select temporal range, compute seasonal means and save data to new file"
   ]
  },
  {
   "cell_type": "code",
   "execution_count": 11,
   "metadata": {},
   "outputs": [],
   "source": [
    "# assign daterange time coordinate for better handling\n",
    "sata = sata.assign_coords(\n",
    "    time=(\"time\", pd.date_range(\"1880-1-1\", \"2020-10-1\", freq=\"MS\"))\n",
    ")\n",
    "\n",
    "# select time range, compute seasonal mean\n",
    "sata = (\n",
    "    sata.sel(\n",
    "        time=(sata[\"time.month\"] >= month_s)\n",
    "        & (sata[\"time.month\"] <= month_e)\n",
    "        & (sata[\"time.year\"] >= year_s)\n",
    "        & (sata[\"time.year\"] <= year_e),\n",
    "    )\n",
    "    .groupby(\"time.year\")\n",
    "    .mean(\"time\")\n",
    ")\n",
    "\n",
    "# Save data to new file\n",
    "sata.to_netcdf('da_pred_sata_all.nc')"
   ]
  },
  {
   "cell_type": "markdown",
   "metadata": {},
   "source": [
    "# SOI (Souther Oscillation Index)\n",
    "## Darwin and Tahiti SLP"
   ]
  },
  {
   "cell_type": "code",
   "execution_count": null,
   "metadata": {},
   "outputs": [],
   "source": []
  }
 ],
 "metadata": {
  "kernelspec": {
   "display_name": "Python 3",
   "language": "python",
   "name": "python3"
  },
  "language_info": {
   "codemirror_mode": {
    "name": "ipython",
    "version": 3
   },
   "file_extension": ".py",
   "mimetype": "text/x-python",
   "name": "python",
   "nbconvert_exporter": "python",
   "pygments_lexer": "ipython3",
   "version": "3.8.5"
  }
 },
 "nbformat": 4,
 "nbformat_minor": 4
}
