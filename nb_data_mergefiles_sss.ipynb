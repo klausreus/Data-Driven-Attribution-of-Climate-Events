{
 "cells": [
  {
   "cell_type": "code",
   "execution_count": null,
   "metadata": {},
   "outputs": [],
   "source": [
    "import xarray as xr"
   ]
  },
  {
   "cell_type": "markdown",
   "metadata": {},
   "source": [
    "**! Issues with this code only on scalc:  \n",
    "-> some files not readable**"
   ]
  },
  {
   "cell_type": "code",
   "execution_count": null,
   "metadata": {},
   "outputs": [],
   "source": [
    "%%time\n",
    "data = []\n",
    "for year in range(1900, 2021):\n",
    "    for month in range (1, 13):\n",
    "        data.append(\n",
    "            xr.open_dataset(f'data/data_o_sss/EN.4.2.1.f.analysis.g10.{year}{month:02d}.nc').salinity.isel(depth=0)\n",
    "        )    \n",
    "        if year==2020 and month==11:\n",
    "            break\n",
    "sss = xr.concat(data, dim='time')"
   ]
  },
  {
   "cell_type": "code",
   "execution_count": null,
   "metadata": {},
   "outputs": [],
   "source": [
    "sss.to_netcdf(\"data_my_sss.nc\")"
   ]
  }
 ],
 "metadata": {
  "kernelspec": {
   "display_name": "Python 3",
   "language": "python",
   "name": "python3"
  },
  "language_info": {
   "codemirror_mode": {
    "name": "ipython",
    "version": 3
   },
   "file_extension": ".py",
   "mimetype": "text/x-python",
   "name": "python",
   "nbconvert_exporter": "python",
   "pygments_lexer": "ipython3",
   "version": "3.8.8"
  }
 },
 "nbformat": 4,
 "nbformat_minor": 4
}
