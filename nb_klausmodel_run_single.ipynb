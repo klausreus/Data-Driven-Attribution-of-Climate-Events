{
 "cells": [
  {
   "cell_type": "markdown",
   "metadata": {},
   "source": [
    "# Neural Network Prediction of Sahelian Summer Rainfall\n",
    "***\n",
    "\n",
    "#### Resources:\n",
    "* [Mardata Course](https://github.com/mardatade/Course-Python-for-Machine-Learning/blob/master/3.%20Neural%20Network.ipynb)\n",
    "* [Keras for Data Scientists](https://keras.io/getting_started/intro_to_keras_for_engineers/#data-loading-amp-preprocessing)"
   ]
  },
  {
   "cell_type": "code",
   "execution_count": 1,
   "metadata": {},
   "outputs": [],
   "source": [
    "import numpy as np\n",
    "import pandas as pd \n",
    "import xarray as xr\n",
    "\n",
    "import matplotlib.pyplot as plt\n",
    "%matplotlib inline\n",
    "import plotly.express as px\n",
    "\n",
    "import scipy.stats as st\n",
    "\n",
    "from sklearn.decomposition import PCA\n",
    "from sklearn.preprocessing import StandardScaler\n",
    "from sklearn.model_selection import ShuffleSplit, KFold\n",
    "from sklearn.utils import shuffle\n",
    "from sklearn import metrics\n",
    "\n",
    "import tensorflow as tf\n",
    "from tensorflow import keras\n",
    "from tensorflow.keras import layers\n",
    "\n",
    "import tensorflow_addons as tfa\n",
    "from tensorboard.plugins.hparams import api as hp\n",
    "%load_ext tensorboard"
   ]
  },
  {
   "cell_type": "markdown",
   "metadata": {},
   "source": [
    "<br>\n",
    "<br>\n",
    "\n",
    "## 1. Data Loading & Preprocessing\n",
    "***"
   ]
  },
  {
   "cell_type": "markdown",
   "metadata": {},
   "source": [
    "<br>\n",
    "\n",
    "### a) Loading & Normalization\n",
    "\n",
    "**pred:** contains the data used for the inputs  <br>\n",
    "**label:** from Sahelrainfall data serves as validation data"
   ]
  },
  {
   "cell_type": "code",
   "execution_count": 2,
   "metadata": {},
   "outputs": [],
   "source": [
    "pred = xr.open_dataset('data/da_pred_all.nc').to_dataframe()\n",
    "\n",
    "pred_unit = pd.DataFrame(\n",
    "    data = StandardScaler().fit_transform(pred), \n",
    "    columns = pred.columns,\n",
    "    index =  pred.index\n",
    ")\n",
    "\n",
    "\n",
    "# load validatoin data (Summer Rainfall over Sahel) \n",
    "labels = np.mean(np.loadtxt(\"data/da_o_sahelprecip19012017.txt\", skiprows=8,)[:,7:10] * 0.01,  axis=1)\n",
    "\n",
    "labels = np.squeeze(StandardScaler().fit_transform(np.reshape(labels, (117,1))))\n"
   ]
  },
  {
   "cell_type": "code",
   "execution_count": 3,
   "metadata": {},
   "outputs": [
    {
     "data": {
      "text/plain": [
       "0.9999999999999999"
      ]
     },
     "execution_count": 3,
     "metadata": {},
     "output_type": "execute_result"
    }
   ],
   "source": [
    "labels.std()"
   ]
  },
  {
   "cell_type": "code",
   "execution_count": 4,
   "metadata": {},
   "outputs": [
    {
     "data": {
      "text/html": [
       "<div>\n",
       "<style scoped>\n",
       "    .dataframe tbody tr th:only-of-type {\n",
       "        vertical-align: middle;\n",
       "    }\n",
       "\n",
       "    .dataframe tbody tr th {\n",
       "        vertical-align: top;\n",
       "    }\n",
       "\n",
       "    .dataframe thead th {\n",
       "        text-align: right;\n",
       "    }\n",
       "</style>\n",
       "<table border=\"1\" class=\"dataframe\">\n",
       "  <thead>\n",
       "    <tr style=\"text-align: right;\">\n",
       "      <th></th>\n",
       "      <th>siod_e</th>\n",
       "      <th>siod_w</th>\n",
       "      <th>sst_med</th>\n",
       "      <th>tsa</th>\n",
       "      <th>tna</th>\n",
       "      <th>sst_mdr</th>\n",
       "      <th>sata_lnh</th>\n",
       "      <th>sata_lsh</th>\n",
       "      <th>sata_onh</th>\n",
       "      <th>sata_osh</th>\n",
       "      <th>slp_darwin</th>\n",
       "      <th>slp_tahiti</th>\n",
       "      <th>amo</th>\n",
       "      <th>nao</th>\n",
       "      <th>pdo</th>\n",
       "      <th>np</th>\n",
       "      <th>nino12</th>\n",
       "      <th>nino3</th>\n",
       "      <th>nino34</th>\n",
       "      <th>nino4</th>\n",
       "    </tr>\n",
       "    <tr>\n",
       "      <th>year</th>\n",
       "      <th></th>\n",
       "      <th></th>\n",
       "      <th></th>\n",
       "      <th></th>\n",
       "      <th></th>\n",
       "      <th></th>\n",
       "      <th></th>\n",
       "      <th></th>\n",
       "      <th></th>\n",
       "      <th></th>\n",
       "      <th></th>\n",
       "      <th></th>\n",
       "      <th></th>\n",
       "      <th></th>\n",
       "      <th></th>\n",
       "      <th></th>\n",
       "      <th></th>\n",
       "      <th></th>\n",
       "      <th></th>\n",
       "      <th></th>\n",
       "    </tr>\n",
       "  </thead>\n",
       "  <tbody>\n",
       "    <tr>\n",
       "      <th>1901</th>\n",
       "      <td>-1.100027</td>\n",
       "      <td>-1.152764</td>\n",
       "      <td>-0.745530</td>\n",
       "      <td>-0.595366</td>\n",
       "      <td>0.388372</td>\n",
       "      <td>0.608415</td>\n",
       "      <td>-0.123443</td>\n",
       "      <td>-0.732091</td>\n",
       "      <td>-0.497808</td>\n",
       "      <td>-0.737797</td>\n",
       "      <td>0.074807</td>\n",
       "      <td>1.634819</td>\n",
       "      <td>0.923204</td>\n",
       "      <td>0.917456</td>\n",
       "      <td>-0.193321</td>\n",
       "      <td>1.938388</td>\n",
       "      <td>-0.950168</td>\n",
       "      <td>-0.595561</td>\n",
       "      <td>-0.214314</td>\n",
       "      <td>-0.079270</td>\n",
       "    </tr>\n",
       "    <tr>\n",
       "      <th>1902</th>\n",
       "      <td>0.088643</td>\n",
       "      <td>0.340415</td>\n",
       "      <td>-1.507314</td>\n",
       "      <td>-0.954566</td>\n",
       "      <td>-0.346586</td>\n",
       "      <td>-0.173588</td>\n",
       "      <td>-1.289978</td>\n",
       "      <td>-0.201810</td>\n",
       "      <td>-1.175314</td>\n",
       "      <td>-0.987096</td>\n",
       "      <td>1.443896</td>\n",
       "      <td>2.682485</td>\n",
       "      <td>-0.620146</td>\n",
       "      <td>-1.172590</td>\n",
       "      <td>0.819716</td>\n",
       "      <td>-0.162154</td>\n",
       "      <td>0.991321</td>\n",
       "      <td>0.969845</td>\n",
       "      <td>1.099218</td>\n",
       "      <td>1.070532</td>\n",
       "    </tr>\n",
       "    <tr>\n",
       "      <th>1903</th>\n",
       "      <td>-0.900789</td>\n",
       "      <td>0.669332</td>\n",
       "      <td>-2.243639</td>\n",
       "      <td>-2.186294</td>\n",
       "      <td>-0.101970</td>\n",
       "      <td>0.283583</td>\n",
       "      <td>-1.333183</td>\n",
       "      <td>-1.076056</td>\n",
       "      <td>-1.415719</td>\n",
       "      <td>-1.333946</td>\n",
       "      <td>-0.071881</td>\n",
       "      <td>1.535042</td>\n",
       "      <td>-0.458290</td>\n",
       "      <td>-1.030410</td>\n",
       "      <td>-0.186187</td>\n",
       "      <td>0.530864</td>\n",
       "      <td>-0.371251</td>\n",
       "      <td>0.000784</td>\n",
       "      <td>0.524139</td>\n",
       "      <td>0.842095</td>\n",
       "    </tr>\n",
       "    <tr>\n",
       "      <th>1904</th>\n",
       "      <td>-0.949568</td>\n",
       "      <td>-1.056219</td>\n",
       "      <td>-0.079925</td>\n",
       "      <td>-1.975498</td>\n",
       "      <td>-2.214111</td>\n",
       "      <td>-1.894743</td>\n",
       "      <td>-1.135674</td>\n",
       "      <td>-1.133384</td>\n",
       "      <td>-1.863746</td>\n",
       "      <td>-1.778347</td>\n",
       "      <td>-0.903114</td>\n",
       "      <td>1.235708</td>\n",
       "      <td>-1.872482</td>\n",
       "      <td>1.447076</td>\n",
       "      <td>-0.892459</td>\n",
       "      <td>0.756497</td>\n",
       "      <td>-0.307712</td>\n",
       "      <td>-0.234313</td>\n",
       "      <td>-0.475713</td>\n",
       "      <td>-0.741738</td>\n",
       "    </tr>\n",
       "    <tr>\n",
       "      <th>1905</th>\n",
       "      <td>-0.034350</td>\n",
       "      <td>-0.632249</td>\n",
       "      <td>-0.718895</td>\n",
       "      <td>-1.684676</td>\n",
       "      <td>-1.334312</td>\n",
       "      <td>-1.014906</td>\n",
       "      <td>-1.314666</td>\n",
       "      <td>-0.595938</td>\n",
       "      <td>-1.284589</td>\n",
       "      <td>-0.954579</td>\n",
       "      <td>0.759351</td>\n",
       "      <td>-2.655622</td>\n",
       "      <td>-0.499163</td>\n",
       "      <td>-1.289888</td>\n",
       "      <td>0.545055</td>\n",
       "      <td>-0.326007</td>\n",
       "      <td>1.227830</td>\n",
       "      <td>1.497381</td>\n",
       "      <td>1.439037</td>\n",
       "      <td>1.032459</td>\n",
       "    </tr>\n",
       "  </tbody>\n",
       "</table>\n",
       "</div>"
      ],
      "text/plain": [
       "        siod_e    siod_w   sst_med       tsa       tna   sst_mdr  sata_lnh  \\\n",
       "year                                                                         \n",
       "1901 -1.100027 -1.152764 -0.745530 -0.595366  0.388372  0.608415 -0.123443   \n",
       "1902  0.088643  0.340415 -1.507314 -0.954566 -0.346586 -0.173588 -1.289978   \n",
       "1903 -0.900789  0.669332 -2.243639 -2.186294 -0.101970  0.283583 -1.333183   \n",
       "1904 -0.949568 -1.056219 -0.079925 -1.975498 -2.214111 -1.894743 -1.135674   \n",
       "1905 -0.034350 -0.632249 -0.718895 -1.684676 -1.334312 -1.014906 -1.314666   \n",
       "\n",
       "      sata_lsh  sata_onh  sata_osh  slp_darwin  slp_tahiti       amo  \\\n",
       "year                                                                   \n",
       "1901 -0.732091 -0.497808 -0.737797    0.074807    1.634819  0.923204   \n",
       "1902 -0.201810 -1.175314 -0.987096    1.443896    2.682485 -0.620146   \n",
       "1903 -1.076056 -1.415719 -1.333946   -0.071881    1.535042 -0.458290   \n",
       "1904 -1.133384 -1.863746 -1.778347   -0.903114    1.235708 -1.872482   \n",
       "1905 -0.595938 -1.284589 -0.954579    0.759351   -2.655622 -0.499163   \n",
       "\n",
       "           nao       pdo        np    nino12     nino3    nino34     nino4  \n",
       "year                                                                        \n",
       "1901  0.917456 -0.193321  1.938388 -0.950168 -0.595561 -0.214314 -0.079270  \n",
       "1902 -1.172590  0.819716 -0.162154  0.991321  0.969845  1.099218  1.070532  \n",
       "1903 -1.030410 -0.186187  0.530864 -0.371251  0.000784  0.524139  0.842095  \n",
       "1904  1.447076 -0.892459  0.756497 -0.307712 -0.234313 -0.475713 -0.741738  \n",
       "1905 -1.289888  0.545055 -0.326007  1.227830  1.497381  1.439037  1.032459  "
      ]
     },
     "execution_count": 4,
     "metadata": {},
     "output_type": "execute_result"
    }
   ],
   "source": [
    "pred_unit.head()"
   ]
  },
  {
   "cell_type": "markdown",
   "metadata": {},
   "source": [
    "<br>\n",
    "\n",
    "### b) PCA"
   ]
  },
  {
   "cell_type": "markdown",
   "metadata": {},
   "source": [
    "### **Question:** normalize pcs again? --> See : [Data loading & preprocessing](https://keras.io/getting_started/intro_to_keras_for_engineers/#data-loading-amp-preprocessing) \n",
    "variance is non-unit for now...\\\n",
    "or does another normalization clear out the information of the pcs?\n",
    "Badr did not mention anything like that."
   ]
  },
  {
   "cell_type": "code",
   "execution_count": 5,
   "metadata": {},
   "outputs": [
    {
     "name": "stdout",
     "output_type": "stream",
     "text": [
      "PC1     1.0\n",
      "PC2     1.0\n",
      "PC3     1.0\n",
      "PC4     1.0\n",
      "PC5     1.0\n",
      "PC6     1.0\n",
      "PC7     1.0\n",
      "PC8     1.0\n",
      "PC9     1.0\n",
      "PC10    1.0\n",
      "PC11    1.0\n",
      "PC12    1.0\n",
      "PC13    1.0\n",
      "PC14    1.0\n",
      "PC15    1.0\n",
      "PC16    1.0\n",
      "PC17    1.0\n",
      "PC18    1.0\n",
      "PC19    1.0\n",
      "PC20    1.0\n",
      "dtype: float64\n",
      "PC1     1.973730e-16\n",
      "PC2     3.510962e-17\n",
      "PC3     5.930679e-17\n",
      "PC4    -2.846726e-18\n",
      "PC5     4.744543e-19\n",
      "PC6    -3.795634e-17\n",
      "PC7     3.795634e-18\n",
      "PC8    -2.324826e-17\n",
      "PC9     6.642360e-17\n",
      "PC10   -1.470808e-17\n",
      "PC11   -2.656944e-17\n",
      "PC12   -1.138690e-17\n",
      "PC13    1.550872e-17\n",
      "PC14   -1.518254e-17\n",
      "PC15    1.138690e-17\n",
      "PC16    1.423363e-17\n",
      "PC17    2.182490e-17\n",
      "PC18   -3.705562e-17\n",
      "PC19   -1.613145e-17\n",
      "PC20   -1.802926e-17\n",
      "dtype: float64\n"
     ]
    }
   ],
   "source": [
    "# Scikit pca transformation\n",
    "pca = PCA()\n",
    "principalComponents = pca.fit_transform(pred_unit)\n",
    "\n",
    "\n",
    "# Create Create Pandas DF from PCs\n",
    "col = []\n",
    "for i in range(1, 21):\n",
    "    col.append(f'PC{i}')\n",
    "\n",
    "pred_pc = pd.DataFrame(\n",
    "    data = principalComponents,\n",
    "    columns = col,\n",
    "    index =  pred.index\n",
    ")\n",
    "\n",
    "pred_pc = pd.DataFrame(\n",
    "    data = StandardScaler().fit_transform(pred_pc), \n",
    "    columns = pred_pc.columns,\n",
    "    index =  pred_pc.index\n",
    ")\n",
    "\n",
    "# Test for unit-variance and zero mean:\n",
    "print(np.std(pred_pc))\n",
    "print(np.mean(pred_pc))\n",
    "# pred_pc.head()"
   ]
  },
  {
   "cell_type": "markdown",
   "metadata": {},
   "source": [
    "<br>\n",
    "\n",
    "### c) Select PCs for input and turn into numpy array"
   ]
  },
  {
   "cell_type": "code",
   "execution_count": 6,
   "metadata": {},
   "outputs": [
    {
     "data": {
      "text/plain": [
       "(117, 5)"
      ]
     },
     "execution_count": 6,
     "metadata": {},
     "output_type": "execute_result"
    }
   ],
   "source": [
    "features = pred_pc.loc[:,['PC1', 'PC2', 'PC3', 'PC4', 'PC5']].to_numpy()\n",
    "features.shape"
   ]
  },
  {
   "cell_type": "markdown",
   "metadata": {},
   "source": [
    "<br>\n",
    "<br>\n",
    "\n",
    "## 2. Build Model\n",
    "***"
   ]
  },
  {
   "cell_type": "markdown",
   "metadata": {},
   "source": [
    "### **Question:** Badr says in Table2: '**standard* correlation and error meassures'? --> means standard or standardized?"
   ]
  },
  {
   "cell_type": "markdown",
   "metadata": {},
   "source": [
    "<br>\n",
    "\n",
    "## a) RRHCV"
   ]
  },
  {
   "cell_type": "markdown",
   "metadata": {},
   "source": [
    "\n",
    "### 1.) Define Model"
   ]
  },
  {
   "cell_type": "code",
   "execution_count": 7,
   "metadata": {},
   "outputs": [],
   "source": [
    "def Buildmodel(HPARAMS):\n",
    "    model = keras.Sequential([\n",
    "#         layers.Dropout(0.1, input_shape=(20,)),\n",
    "        layers.Dense(64, HPARAMS['activation'] ,name=\"layer1\"),\n",
    "        layers.Dropout(HPARAMS['dropout_rate'] ,name=\"Dropout_layer1\"),\n",
    "        \n",
    "        layers.Dense(16, HPARAMS['activation'], name=\"layer2\"),\n",
    "        layers.Dropout(HPARAMS['dropout_rate'] ,name=\"Dropout_layer2\"),\n",
    "        \n",
    "        layers.Dense(8, HPARAMS['activation'], name=\"layer3\"),\n",
    "        layers.Dropout(HPARAMS['dropout_rate'] ,name=\"Dropout_layer3\"),\n",
    "        \n",
    "        layers.Dense(4, HPARAMS['activation'], name=\"layer4\"),\n",
    "        layers.Dropout(HPARAMS['dropout_rate'] ,name=\"Dropout_layer4\"),\n",
    "        \n",
    "#         layers.Dense(HPARAMS['layersize'], HPARAMS['activation'], name=\"layer5\"),\n",
    "#         layers.Dropout(HPARAMS['dropout_rate'] ,name=\"Dropout_layer5\"),\n",
    "        \n",
    "#         layers.Dense(HPARAMS['layersize'], HPARAMS['activation'], name=\"layer6\"),\n",
    "#         layers.Dropout(HPARAMS['dropout_rate'] ,name=\"Dropout_layer6\"),\n",
    "        \n",
    "        layers.Dense(1,  name='output'), #activation='linear'\n",
    "    ])\n",
    "    model.compile(\n",
    "        loss='mean_squared_error',\n",
    "        optimizer=keras.optimizers.Adam(\n",
    "            learning_rate=HPARAMS['learn_rate']\n",
    "        )\n",
    "    )\n",
    "    return model"
   ]
  },
  {
   "cell_type": "markdown",
   "metadata": {},
   "source": [
    "<br>\n",
    "\n",
    "### 2.) Train model\n",
    "* Perfrom in total k Repetitions\n",
    "* For each walkthrough the data is first shuffled and the split into training (90%) and test (10%) sets.\n",
    "* save single error metrics () into numpy array \n",
    "* **set parameters at top of cell**"
   ]
  },
  {
   "cell_type": "code",
   "execution_count": 8,
   "metadata": {},
   "outputs": [],
   "source": [
    "### choose parameters ###\n",
    "HPARAMS = {\n",
    "    'activation': 'relu',\n",
    "    'optimizer': 'Adam',\n",
    "    'learn_rate': 0.001,\n",
    "    'batch_size': 20,\n",
    "    'n_epochs': 200,\n",
    "    'dropout_rate': 0.05,\n",
    "    'layersize': 2,\n",
    "    \n",
    "}\n",
    "\n",
    "earlystop = tf.keras.callbacks.EarlyStopping(monitor='loss', patience=0)\n",
    "\n",
    "\n",
    "\n",
    "k = 5 # number of 'folds' -> sample size as in Badr\n",
    "# test_frac = .1 # factrion that is held out for testing"
   ]
  },
  {
   "cell_type": "code",
   "execution_count": 9,
   "metadata": {},
   "outputs": [
    {
     "name": "stdout",
     "output_type": "stream",
     "text": [
      "TRAIN: [ 56   7 109  80   8  75 108  89  23  82 103  12  28  55  42  15  88  97\n",
      "  13  91  74  36  94 116  66  24  53  20 100  68  51  96  73  40  93  49\n",
      "  84  83 101  92  45  33  70  62   4  64   5  48  10 104  86  47  43  32\n",
      "  16  29   6  17 111  98   9 115   3  21  41  69  25  37  58  59  87  52\n",
      "  44  27  99  78  77 110 114  90 113  38  65   2  34 107  18   0  31  14\n",
      "  30 105  72] TEST: [ 95  50  61  11  67  63  35 106  81  79  76  60  54  71  46  57 112  22\n",
      " 102  39  85  26  19   1]\n",
      "TRAIN: [ 48  71   9   0 101  75  56  79  30  15  86  29   7 104  87  94  60 106\n",
      "  95   5  35   6  74  70 109  38  49  26  44  37  61  92  13 108  69  52\n",
      " 113  50   8  57  99  32  34  53  72 107  24  83  76  54  64  81  77  97\n",
      "  12  40  16  85  39 112  31  11   2  63  20 102 115  88  25 111  55  91\n",
      "  22  46  21 100 110  43  67  10 103  19   1  66  78  27  65  51  80  33\n",
      "  41  58 114] TEST: [105  93  84  89  36  28  18  42  62  17  47  23  59  45   4  98  14   3\n",
      "  82 116  96  90  68  73]\n",
      "TRAIN: [  8  98 114  93  16  13  26 108  36   5 113  30  85  39  73  32  42 115\n",
      "  58  38  21  67   7  33  59  84  55  19  97 102  37 116  18  63  22  12\n",
      "  76  61  45  28  44  47  83  91  54   0  81  80  41 105  89  29  40   4\n",
      "  64  23  62  75  87  95   1  34  11  90 110  71  60  51  46   6  27  14\n",
      "  15   9   3  74  92  56  57 112 103  94  72  96  68  66 106  31  50  79\n",
      " 107  82  17  35] TEST: [101  69   2 111  77  53  78  24  25  49  43  65  48  10  52 109  20  88\n",
      " 104  99  86 100  70]\n",
      "TRAIN: [ 22  60 105  95  97  27  99  18  85   3  14  98 116  16   1  69  12  67\n",
      "  91  51  24  28 102 104  79  20  43  73  21  47 112   2  68  23  89  93\n",
      "  32  39  36  78  53  19  58  29 109  64  55  17  41  81  10  84  57  83\n",
      "  86  54  77  90  76  59  52  96  74 106  25  71  35  30 107  45  46 100\n",
      "  62  37  31  88  42  70  65  49  61  26 111   4  48 108   0  82  80 101\n",
      "  50  63 103  11] TEST: [ 94  66 114   9  13  33  72 113 110  92  34   8  44  56   6 115   5  75\n",
      "  38   7  87  40  15]\n",
      "TRAIN: [ 26  18  10  20   7  52  86  68  36 112   2  11  59  63   9  35  49  87\n",
      "  76 116  78  92  38  44   4  96 105 114  71 110  93   1  53  23  56  43\n",
      "  33  88 113  40  81  42  62  65  39  60  66  61 115  19  94  13 104  48\n",
      "  70  75  77  46  25  47  22  79 106  98  90  73  50   8  69  54  15  95\n",
      "  45  67  82  85   6   5   3  14 109  28 100 111  57  24 101 102  99  84\n",
      "  17  34  89  72] TEST: [108  21  37  58  16  83  12  55  91  51  31  32  97  41  30  27 103  74\n",
      "  64  29  80   0 107]\n",
      "CPU times: user 3.33 s, sys: 261 ms, total: 3.59 s\n",
      "Wall time: 3.06 s\n"
     ]
    }
   ],
   "source": [
    "%%time\n",
    "\n",
    "# define error metrics:\n",
    "mae_train = []\n",
    "mad_train = []\n",
    "mse_train = []\n",
    "rmse_train = []\n",
    "corr_train = []\n",
    "\n",
    "mae_test = []\n",
    "mad_test = []\n",
    "mse_test = []\n",
    "rmse_test = []\n",
    "corr_test = []\n",
    "\n",
    "training_length = []\n",
    "\n",
    "# use sklearn Shuffle Split to Lood through Cross-Validation\n",
    "# for train_index, test_index in ShuffleSplit(n_splits=k, test_size=test_frac).split(features):      #RRHCV\n",
    "for train_index, test_index in KFold(n_splits=k, shuffle=True).split(features):                      #KFold\n",
    "\n",
    "    train_index = shuffle(train_index)\n",
    "    test_index  = shuffle(test_index)\n",
    "    \n",
    "    print(\"TRAIN:\", train_index, \"TEST:\", test_index)\n",
    "    \n",
    "    # Build the model according to definition:\n",
    "    model = Buildmodel(HPARAMS)\n",
    "    \n",
    "\n",
    "    #Train the model \n",
    "    train_history = model.fit(\n",
    "        features[train_index],\n",
    "        labels[train_index],\n",
    "        batch_size=HPARAMS['batch_size'],\n",
    "        epochs=HPARAMS['n_epochs'],\n",
    "        verbose=0,\n",
    "        callbacks=earlystop\n",
    "    )\n",
    "\n",
    "    \n",
    "    #Run the model for insample data:\n",
    "    y_train= np.squeeze(model.predict(features[train_index]))\n",
    "    \n",
    "    # ... and for out of sample data\n",
    "    y_test = np.squeeze(model.predict(features[test_index]))\n",
    "    \n",
    "    \n",
    "    # save errors into numpy arrays:\n",
    "    e_train =  y_train - labels[train_index]\n",
    "    ae_train = np.absolute(e_train)\n",
    "    mae_train = np.append(mae_train, np.mean(ae_train))\n",
    "    mad_train = np.append(mad_train, np.median(np.absolute(e_train - np.median(e_train))))\n",
    "    mse_train = np.append(mse_train, np.mean(e_train**2))\n",
    "    rmse_train = np.append(rmse_train, np.sqrt(mse_train))\n",
    "    corr_train = np.append(corr_train, st.pearsonr(y_train, labels[train_index])[0])\n",
    "    \n",
    "    \n",
    "    e_test =  y_test - labels[test_index]\n",
    "    ae_test = np.absolute(e_test)\n",
    "    mae_test = np.append(mae_test, np.mean(ae_test))\n",
    "    mad_test = np.append(mad_test, np.median(np.absolute(e_test - np.median(e_test))))\n",
    "    mse_test = np.append(mse_test, np.mean(e_test**2))\n",
    "    rmse_test = np.append(rmse_test, np.sqrt(mse_test))\n",
    "    corr_test = np.append(corr_test, st.pearsonr(y_test, labels[test_index])[0])\n",
    "    \n",
    "    training_length = np.append(training_length, len(train_history.history['loss']))"
   ]
  },
  {
   "cell_type": "code",
   "execution_count": 10,
   "metadata": {},
   "outputs": [
    {
     "name": "stdout",
     "output_type": "stream",
     "text": [
      "Model: \"sequential_4\"\n",
      "_________________________________________________________________\n",
      "Layer (type)                 Output Shape              Param #   \n",
      "=================================================================\n",
      "layer1 (Dense)               (None, 64)                384       \n",
      "_________________________________________________________________\n",
      "Dropout_layer1 (Dropout)     (None, 64)                0         \n",
      "_________________________________________________________________\n",
      "layer2 (Dense)               (None, 16)                1040      \n",
      "_________________________________________________________________\n",
      "Dropout_layer2 (Dropout)     (None, 16)                0         \n",
      "_________________________________________________________________\n",
      "layer3 (Dense)               (None, 8)                 136       \n",
      "_________________________________________________________________\n",
      "Dropout_layer3 (Dropout)     (None, 8)                 0         \n",
      "_________________________________________________________________\n",
      "layer4 (Dense)               (None, 4)                 36        \n",
      "_________________________________________________________________\n",
      "Dropout_layer4 (Dropout)     (None, 4)                 0         \n",
      "_________________________________________________________________\n",
      "output (Dense)               (None, 1)                 5         \n",
      "=================================================================\n",
      "Total params: 1,601\n",
      "Trainable params: 1,601\n",
      "Non-trainable params: 0\n",
      "_________________________________________________________________\n"
     ]
    }
   ],
   "source": [
    "model.summary()"
   ]
  },
  {
   "cell_type": "code",
   "execution_count": 11,
   "metadata": {},
   "outputs": [
    {
     "data": {
      "text/plain": [
       "array([0.55425649, 0.55764696, 0.24690347, 0.62060135, 0.53893923])"
      ]
     },
     "execution_count": 11,
     "metadata": {},
     "output_type": "execute_result"
    }
   ],
   "source": [
    "corr_train"
   ]
  },
  {
   "cell_type": "code",
   "execution_count": 12,
   "metadata": {},
   "outputs": [
    {
     "data": {
      "text/plain": [
       "array([ 0.53904548,  0.46148883, -0.11357425,  0.55641464,  0.2655327 ])"
      ]
     },
     "execution_count": 12,
     "metadata": {},
     "output_type": "execute_result"
    }
   ],
   "source": [
    "corr_test"
   ]
  },
  {
   "cell_type": "code",
   "execution_count": 13,
   "metadata": {},
   "outputs": [
    {
     "data": {
      "text/plain": [
       "array([0.81560669, 0.84380877, 0.9913976 , 0.83553812, 0.86648315])"
      ]
     },
     "execution_count": 13,
     "metadata": {},
     "output_type": "execute_result"
    }
   ],
   "source": [
    "mse_train"
   ]
  },
  {
   "cell_type": "code",
   "execution_count": 14,
   "metadata": {},
   "outputs": [
    {
     "data": {
      "text/plain": [
       "array([0.89801991, 0.73661587, 0.98147755, 1.03945853, 0.92765019])"
      ]
     },
     "execution_count": 14,
     "metadata": {},
     "output_type": "execute_result"
    }
   ],
   "source": [
    "mse_test"
   ]
  },
  {
   "cell_type": "code",
   "execution_count": 15,
   "metadata": {},
   "outputs": [
    {
     "data": {
      "text/plain": [
       "<tensorflow.python.keras.callbacks.History at 0x7f16a85b0280>"
      ]
     },
     "execution_count": 15,
     "metadata": {},
     "output_type": "execute_result"
    }
   ],
   "source": [
    "train_history"
   ]
  },
  {
   "cell_type": "markdown",
   "metadata": {},
   "source": [
    "<br>\n",
    "\n",
    "### 3.) Error Computation"
   ]
  },
  {
   "cell_type": "markdown",
   "metadata": {},
   "source": [
    "#### Training Errors"
   ]
  },
  {
   "cell_type": "code",
   "execution_count": 16,
   "metadata": {},
   "outputs": [
    {
     "data": {
      "text/html": [
       "<div>\n",
       "<style scoped>\n",
       "    .dataframe tbody tr th:only-of-type {\n",
       "        vertical-align: middle;\n",
       "    }\n",
       "\n",
       "    .dataframe tbody tr th {\n",
       "        vertical-align: top;\n",
       "    }\n",
       "\n",
       "    .dataframe thead th {\n",
       "        text-align: right;\n",
       "    }\n",
       "</style>\n",
       "<table border=\"1\" class=\"dataframe\">\n",
       "  <thead>\n",
       "    <tr style=\"text-align: right;\">\n",
       "      <th></th>\n",
       "      <th>corr_mu</th>\n",
       "      <th>corr_sig</th>\n",
       "      <th>mad_mu</th>\n",
       "      <th>mad_sig</th>\n",
       "      <th>mae_mu</th>\n",
       "      <th>mae_sig</th>\n",
       "      <th>mse_mu</th>\n",
       "      <th>mse_sig</th>\n",
       "      <th>rmse_mu</th>\n",
       "      <th>rmse_sig</th>\n",
       "      <th>training_length_mu</th>\n",
       "      <th>training_length_sig</th>\n",
       "    </tr>\n",
       "  </thead>\n",
       "  <tbody>\n",
       "    <tr>\n",
       "      <th>0</th>\n",
       "      <td>0.503669</td>\n",
       "      <td>0.131391</td>\n",
       "      <td>0.686687</td>\n",
       "      <td>0.050843</td>\n",
       "      <td>0.771139</td>\n",
       "      <td>0.033234</td>\n",
       "      <td>0.870567</td>\n",
       "      <td>0.062579</td>\n",
       "      <td>0.929066</td>\n",
       "      <td>0.034231</td>\n",
       "      <td>9.6</td>\n",
       "      <td>4.317407</td>\n",
       "    </tr>\n",
       "  </tbody>\n",
       "</table>\n",
       "</div>"
      ],
      "text/plain": [
       "    corr_mu  corr_sig    mad_mu   mad_sig    mae_mu   mae_sig    mse_mu  \\\n",
       "0  0.503669  0.131391  0.686687  0.050843  0.771139  0.033234  0.870567   \n",
       "\n",
       "    mse_sig   rmse_mu  rmse_sig  training_length_mu  training_length_sig  \n",
       "0  0.062579  0.929066  0.034231                 9.6             4.317407  "
      ]
     },
     "execution_count": 16,
     "metadata": {},
     "output_type": "execute_result"
    }
   ],
   "source": [
    "train_errors = pd.DataFrame(\n",
    "    data = {\n",
    "        'corr_mu': [np.nanmean(corr_train)],\n",
    "        'corr_sig': [np.std(corr_train)],\n",
    "        'mad_mu': [np.mean(mad_train)],\n",
    "        'mad_sig': [np.std(mad_train)],\n",
    "        'mae_mu': [np.mean(mae_train)],\n",
    "        'mae_sig': [np.std(mae_train)],\n",
    "        'mse_mu': [np.mean(mse_train)],\n",
    "        'mse_sig': [np.std(mse_train)],\n",
    "        'rmse_mu': [np.mean(rmse_train)],\n",
    "        'rmse_sig': [np.std(rmse_train)],\n",
    "        'training_length_mu': [np.mean(training_length)],\n",
    "        'training_length_sig': [np.std(training_length)],\n",
    "    }\n",
    ")\n",
    "train_errors"
   ]
  },
  {
   "cell_type": "markdown",
   "metadata": {},
   "source": [
    "<br>\n",
    "\n",
    "#### Test Errors"
   ]
  },
  {
   "cell_type": "code",
   "execution_count": 17,
   "metadata": {},
   "outputs": [
    {
     "data": {
      "text/html": [
       "<div>\n",
       "<style scoped>\n",
       "    .dataframe tbody tr th:only-of-type {\n",
       "        vertical-align: middle;\n",
       "    }\n",
       "\n",
       "    .dataframe tbody tr th {\n",
       "        vertical-align: top;\n",
       "    }\n",
       "\n",
       "    .dataframe thead th {\n",
       "        text-align: right;\n",
       "    }\n",
       "</style>\n",
       "<table border=\"1\" class=\"dataframe\">\n",
       "  <thead>\n",
       "    <tr style=\"text-align: right;\">\n",
       "      <th></th>\n",
       "      <th>corr_mu</th>\n",
       "      <th>corr_sig</th>\n",
       "      <th>mad_mu</th>\n",
       "      <th>mad_sig</th>\n",
       "      <th>mae_mu</th>\n",
       "      <th>mae_sig</th>\n",
       "      <th>mse_mu</th>\n",
       "      <th>mse_sig</th>\n",
       "      <th>rmse_mu</th>\n",
       "      <th>rmse_sig</th>\n",
       "    </tr>\n",
       "  </thead>\n",
       "  <tbody>\n",
       "    <tr>\n",
       "      <th>0</th>\n",
       "      <td>0.341781</td>\n",
       "      <td>0.249989</td>\n",
       "      <td>0.557374</td>\n",
       "      <td>0.066001</td>\n",
       "      <td>0.784691</td>\n",
       "      <td>0.053283</td>\n",
       "      <td>0.916644</td>\n",
       "      <td>0.102142</td>\n",
       "      <td>0.943037</td>\n",
       "      <td>0.056436</td>\n",
       "    </tr>\n",
       "  </tbody>\n",
       "</table>\n",
       "</div>"
      ],
      "text/plain": [
       "    corr_mu  corr_sig    mad_mu   mad_sig    mae_mu   mae_sig    mse_mu  \\\n",
       "0  0.341781  0.249989  0.557374  0.066001  0.784691  0.053283  0.916644   \n",
       "\n",
       "    mse_sig   rmse_mu  rmse_sig  \n",
       "0  0.102142  0.943037  0.056436  "
      ]
     },
     "execution_count": 17,
     "metadata": {},
     "output_type": "execute_result"
    }
   ],
   "source": [
    "test_errors = pd.DataFrame(\n",
    "    data = {\n",
    "        'corr_mu': [np.mean(corr_test)],\n",
    "        'corr_sig': [np.std(corr_test)],\n",
    "        'mad_mu': [np.mean(mad_test)],\n",
    "        'mad_sig': [np.std(mad_test)],\n",
    "        'mae_mu': [np.mean(mae_test)],\n",
    "        'mae_sig': [np.std(mae_test)],\n",
    "        'mse_mu': [np.mean(mse_test)],\n",
    "        'mse_sig': [np.std(mse_test)],\n",
    "        'rmse_mu': [np.mean(rmse_test)],\n",
    "        'rmse_sig': [np.std(rmse_test)],\n",
    "    }\n",
    ")\n",
    "test_errors"
   ]
  },
  {
   "cell_type": "markdown",
   "metadata": {},
   "source": [
    "<br>\n",
    "\n",
    "### 4.) PLot model output vs Validation Data"
   ]
  },
  {
   "cell_type": "code",
   "execution_count": 18,
   "metadata": {},
   "outputs": [
    {
     "data": {
      "image/png": "[encoded data removed]",
      "text/plain": [
       "<Figure size 1008x576 with 1 Axes>"
      ]
     },
     "metadata": {
      "needs_background": "light"
     },
     "output_type": "display_data"
    }
   ],
   "source": [
    "plt.figure(figsize=(14,8))\n",
    "plt.plot(labels[train_index], label=\"y-original\")\n",
    "plt.plot(y_train, label=\"y-predicted\")\n",
    "plt.legend()\n",
    "plt.show()"
   ]
  },
  {
   "cell_type": "code",
   "execution_count": 19,
   "metadata": {},
   "outputs": [
    {
     "data": {
      "image/png": "[encoded data removed]",
      "text/plain": [
       "<Figure size 1008x576 with 1 Axes>"
      ]
     },
     "metadata": {
      "needs_background": "light"
     },
     "output_type": "display_data"
    }
   ],
   "source": [
    "plt.figure(figsize=(14,8))\n",
    "plt.plot(labels[test_index], label=\"y-original\")\n",
    "plt.plot(y_test, label=\"y-predicted\")\n",
    "plt.legend()\n",
    "plt.show()"
   ]
  },
  {
   "cell_type": "code",
   "execution_count": 20,
   "metadata": {},
   "outputs": [
    {
     "data": {
      "text/plain": [
       "[<matplotlib.lines.Line2D at 0x7f16a8293ac0>]"
      ]
     },
     "execution_count": 20,
     "metadata": {},
     "output_type": "execute_result"
    },
    {
     "data": {
      "image/png": "[encoded data removed]",
      "text/plain": [
       "<Figure size 432x288 with 1 Axes>"
      ]
     },
     "metadata": {
      "needs_background": "light"
     },
     "output_type": "display_data"
    }
   ],
   "source": [
    "plt.plot(np.sort(y_test))\n",
    "plt.plot(np.sort(np.squeeze(model.predict(features[test_index]))))"
   ]
  },
  {
   "cell_type": "code",
   "execution_count": 21,
   "metadata": {},
   "outputs": [
    {
     "name": "stdout",
     "output_type": "stream",
     "text": [
      "Model: \"sequential_4\"\n",
      "_________________________________________________________________\n",
      "Layer (type)                 Output Shape              Param #   \n",
      "=================================================================\n",
      "layer1 (Dense)               (None, 64)                384       \n",
      "_________________________________________________________________\n",
      "Dropout_layer1 (Dropout)     (None, 64)                0         \n",
      "_________________________________________________________________\n",
      "layer2 (Dense)               (None, 16)                1040      \n",
      "_________________________________________________________________\n",
      "Dropout_layer2 (Dropout)     (None, 16)                0         \n",
      "_________________________________________________________________\n",
      "layer3 (Dense)               (None, 8)                 136       \n",
      "_________________________________________________________________\n",
      "Dropout_layer3 (Dropout)     (None, 8)                 0         \n",
      "_________________________________________________________________\n",
      "layer4 (Dense)               (None, 4)                 36        \n",
      "_________________________________________________________________\n",
      "Dropout_layer4 (Dropout)     (None, 4)                 0         \n",
      "_________________________________________________________________\n",
      "output (Dense)               (None, 1)                 5         \n",
      "=================================================================\n",
      "Total params: 1,601\n",
      "Trainable params: 1,601\n",
      "Non-trainable params: 0\n",
      "_________________________________________________________________\n"
     ]
    }
   ],
   "source": [
    "model.summary()"
   ]
  },
  {
   "cell_type": "code",
   "execution_count": 22,
   "metadata": {},
   "outputs": [
    {
     "data": {
      "text/plain": [
       "(117, 5)"
      ]
     },
     "execution_count": 22,
     "metadata": {},
     "output_type": "execute_result"
    }
   ],
   "source": [
    "features.shape"
   ]
  },
  {
   "cell_type": "code",
   "execution_count": 23,
   "metadata": {},
   "outputs": [
    {
     "data": {
      "text/plain": [
       "[array([[ 2.13897690e-01, -2.16759905e-01,  8.28825496e-03,\n",
       "         -9.90205854e-02,  1.66096866e-01, -4.90444824e-02,\n",
       "          1.77695513e-01, -7.62241632e-02,  1.15694694e-01,\n",
       "          2.00720549e-01, -5.24142608e-02,  6.23246096e-02,\n",
       "          5.10867909e-02, -4.39675711e-02, -4.82094884e-02,\n",
       "         -2.49754772e-01, -1.77810892e-01, -5.86116277e-02,\n",
       "         -1.23716168e-01, -2.45636418e-01, -7.91474730e-02,\n",
       "         -6.24811649e-02,  2.82381147e-01,  4.46528792e-02,\n",
       "         -1.47207335e-01, -1.44024581e-01,  1.26995474e-01,\n",
       "          6.54788688e-02, -5.29613532e-02,  2.96853911e-02,\n",
       "         -2.23597899e-01,  1.89323187e-01, -1.42313778e-01,\n",
       "          1.42103627e-01,  2.50162989e-01, -2.63920993e-01,\n",
       "          1.35859489e-01, -2.53643602e-01, -1.26304924e-01,\n",
       "         -5.68036400e-02, -1.30811647e-01,  1.37614891e-01,\n",
       "         -2.07114205e-01,  5.10047451e-02,  2.85718501e-01,\n",
       "         -7.91581441e-03,  2.96715021e-01,  2.77939498e-01,\n",
       "         -1.63921967e-01,  1.97121963e-01, -1.38410881e-01,\n",
       "          1.19427800e-01, -1.08181275e-01, -7.31487200e-02,\n",
       "          6.67725205e-02, -2.50731558e-01,  6.47510365e-02,\n",
       "          3.03413630e-01,  1.40012726e-01, -2.47933492e-01,\n",
       "          2.72548288e-01, -1.93064496e-01,  2.25135252e-01,\n",
       "         -1.48257073e-02],\n",
       "        [-1.91356748e-01, -1.01005912e-01, -8.58114064e-02,\n",
       "          8.41661394e-02, -1.38899669e-01, -2.00338498e-01,\n",
       "          2.78957158e-01, -8.98023546e-02,  2.36652195e-01,\n",
       "          1.33344412e-01, -1.95687905e-01, -1.84853628e-01,\n",
       "         -7.41769820e-02,  8.19004625e-02,  1.32392794e-01,\n",
       "         -1.50334835e-01, -5.99542595e-02, -1.03565522e-01,\n",
       "         -2.77714342e-01,  6.08117208e-02,  3.38853896e-02,\n",
       "          8.66606012e-02,  7.06139505e-02, -4.81738225e-02,\n",
       "         -3.00967008e-01, -1.94354191e-01,  6.94562346e-02,\n",
       "          1.09260358e-01,  6.90165162e-02, -2.18589202e-01,\n",
       "          1.70866072e-01, -2.71313548e-01, -1.96247742e-01,\n",
       "         -2.48966545e-01, -2.63090223e-01,  2.63720989e-01,\n",
       "          8.34041536e-02,  2.32395411e-01,  1.32815644e-01,\n",
       "         -2.11946681e-01,  1.56352490e-01, -2.16643482e-01,\n",
       "          2.43425623e-01, -3.00811231e-01,  2.77341366e-01,\n",
       "          1.96642950e-01,  2.71436989e-01, -2.32256591e-01,\n",
       "         -1.21251242e-02,  9.29110274e-02, -1.62700638e-01,\n",
       "         -9.60675851e-02, -1.50626794e-01,  8.91327932e-02,\n",
       "         -1.46020800e-01, -1.90581664e-01,  1.10908151e-01,\n",
       "         -1.63551375e-01,  1.41422689e-01,  1.47674277e-01,\n",
       "          1.57241493e-01, -1.55077919e-01,  3.01288784e-01,\n",
       "         -1.94890037e-01],\n",
       "        [-2.59712269e-03, -7.01604318e-03,  4.75042611e-02,\n",
       "         -2.82648534e-01, -5.21923490e-02,  2.79984534e-01,\n",
       "         -2.37617418e-01,  3.08233351e-01,  1.32392300e-02,\n",
       "         -1.14960030e-01, -2.23321561e-02,  2.07893416e-01,\n",
       "          2.55906999e-01,  8.66315663e-02, -2.16619208e-01,\n",
       "          2.70965844e-01, -2.82792687e-01, -1.00585707e-01,\n",
       "         -5.00305444e-02, -1.53803006e-01,  2.15447903e-01,\n",
       "         -2.16698155e-01, -2.23421544e-01, -2.52380610e-01,\n",
       "          1.23277921e-02, -1.19550861e-01, -8.79465267e-02,\n",
       "          1.65682837e-01, -2.07791343e-01,  1.66022733e-01,\n",
       "         -1.27279326e-01, -2.17608223e-03, -1.70706660e-01,\n",
       "          5.23997210e-02,  2.24593356e-01,  1.70252830e-01,\n",
       "         -2.04382151e-01,  4.02920432e-02,  2.85386205e-01,\n",
       "         -1.80221066e-01,  6.67896792e-02,  1.60601083e-02,\n",
       "          1.93188608e-01,  2.52107561e-01,  2.24419758e-01,\n",
       "          1.28706366e-01,  2.60182798e-01, -1.37512580e-01,\n",
       "         -2.50802487e-01,  2.88355231e-01, -8.97647664e-02,\n",
       "         -4.15565632e-02, -7.15711340e-03,  2.15788618e-01,\n",
       "          2.38188967e-01, -6.85229450e-02, -2.89893836e-01,\n",
       "         -7.20937550e-02, -2.21215338e-01, -1.58035904e-01,\n",
       "         -8.82553309e-02,  1.81610063e-01,  1.27168521e-01,\n",
       "         -1.92338318e-01],\n",
       "        [-2.96952516e-01,  1.40424445e-01, -5.68764955e-02,\n",
       "          1.79483280e-01,  2.91187137e-01,  8.39444399e-02,\n",
       "          6.02800474e-02,  1.25122279e-01, -2.38929734e-01,\n",
       "          1.06002450e-01, -8.45444947e-02,  2.21272811e-01,\n",
       "          9.18396860e-02,  2.58344948e-01,  5.31827174e-02,\n",
       "         -1.50728106e-01, -2.21057445e-01,  1.74187437e-01,\n",
       "          1.11094922e-01,  1.77505478e-01, -8.70941877e-02,\n",
       "         -1.46674871e-01, -1.84944376e-01, -1.04120709e-01,\n",
       "         -1.40651733e-01, -3.17639560e-02, -2.73124516e-01,\n",
       "          2.35277757e-01, -9.16192085e-02,  4.60714698e-02,\n",
       "         -1.33404598e-01,  1.57008007e-01, -8.04571360e-02,\n",
       "         -6.88791499e-02, -2.50587519e-02, -4.06976789e-02,\n",
       "          2.10537054e-02,  1.24029383e-01, -1.72575340e-01,\n",
       "          9.85489041e-02, -2.16106370e-01,  2.45216787e-01,\n",
       "          1.53834969e-01,  1.04232199e-01, -2.67669618e-01,\n",
       "          7.52407610e-02, -4.29327153e-02,  1.38717994e-01,\n",
       "         -1.24036022e-01,  1.25078306e-01,  6.19245470e-02,\n",
       "         -3.18712927e-02,  2.39163920e-01, -2.62410164e-01,\n",
       "          2.11212829e-01,  2.80413721e-02,  4.38133888e-02,\n",
       "         -2.67963648e-01,  1.31190062e-01,  3.45323421e-02,\n",
       "          1.51328251e-01,  1.77375928e-01, -2.48173587e-02,\n",
       "          2.59059995e-01],\n",
       "        [ 8.47101361e-02, -2.01377839e-01,  2.58552790e-01,\n",
       "          1.66827977e-01,  2.26681866e-02,  2.26568192e-01,\n",
       "         -2.18658447e-01, -2.20182702e-01, -1.89267963e-01,\n",
       "         -2.35197455e-01,  2.75234997e-01,  2.11622790e-01,\n",
       "         -1.97340295e-01, -2.78927475e-01,  3.74524593e-02,\n",
       "          2.16438770e-01, -2.81151414e-01,  1.49172440e-01,\n",
       "         -1.68187439e-01,  1.69354096e-01,  2.39598518e-03,\n",
       "         -1.68148860e-01,  2.10581422e-01, -1.13723785e-01,\n",
       "          4.31000553e-02, -9.90245938e-02, -1.77995898e-02,\n",
       "          2.69793643e-04, -2.69165337e-01, -7.60189518e-02,\n",
       "         -1.62505299e-01, -1.21465541e-01, -2.02305526e-01,\n",
       "          1.13081142e-01, -1.28122689e-02, -3.01443115e-02,\n",
       "         -4.68517691e-02, -1.26046419e-01, -1.81872785e-01,\n",
       "          2.08908975e-01, -2.39308521e-01,  5.13474047e-02,\n",
       "          2.41521016e-01,  7.23768622e-02,  3.11605353e-02,\n",
       "         -8.38963538e-02,  6.95527792e-02, -2.00423151e-01,\n",
       "          6.31192625e-02, -4.62871976e-02, -4.86506298e-02,\n",
       "         -2.57142425e-01,  1.03109539e-01,  2.01019384e-02,\n",
       "         -2.19377548e-01,  8.41580629e-02,  1.11146681e-01,\n",
       "         -1.85710058e-01, -2.43519440e-01,  1.77971959e-01,\n",
       "         -2.58744478e-01, -3.00530009e-02,  1.18165076e-01,\n",
       "          8.46576244e-02]], dtype=float32),\n",
       " array([-0.00012382, -0.00477332,  0.00815186,  0.00925108,  0.01355789,\n",
       "        -0.00369541,  0.0012222 ,  0.01175314,  0.00352917, -0.01053033,\n",
       "         0.01804374,  0.01102087, -0.02374202,  0.00389581, -0.00087928,\n",
       "        -0.01070379,  0.01672895, -0.00651078, -0.01238451, -0.00832736,\n",
       "         0.01212441, -0.0159694 ,  0.0031499 ,  0.01339374,  0.00244239,\n",
       "         0.00941506, -0.01591023,  0.00641408,  0.00398649,  0.00418804,\n",
       "         0.01357236, -0.0140465 ,  0.00941332,  0.00498907, -0.0145765 ,\n",
       "        -0.00727104,  0.0116608 ,  0.01361466, -0.01775993, -0.01476701,\n",
       "         0.01574211, -0.00940545, -0.01573451,  0.00290427, -0.00370797,\n",
       "         0.00021265,  0.00365599,  0.00084484,  0.00747022,  0.00161076,\n",
       "        -0.00867226, -0.00311201, -0.0035743 , -0.00599542,  0.00626927,\n",
       "         0.0063964 ,  0.00552965, -0.01370932,  0.01958779, -0.01489455,\n",
       "        -0.01570975,  0.01398629,  0.0093508 ,  0.00682159], dtype=float32),\n",
       " array([[-0.06989525, -0.18900192,  0.19977048, ..., -0.12658256,\n",
       "          0.26114604, -0.13985986],\n",
       "        [-0.04389029, -0.02190527,  0.02103364, ..., -0.05456412,\n",
       "         -0.11438835,  0.14023612],\n",
       "        [ 0.2274528 ,  0.09624057, -0.17383164, ..., -0.15096675,\n",
       "          0.11468197,  0.03563212],\n",
       "        ...,\n",
       "        [-0.11165716, -0.21815866,  0.08419206, ..., -0.1153879 ,\n",
       "          0.08817635, -0.14698164],\n",
       "        [ 0.05110752, -0.16871685,  0.02239705, ...,  0.08304189,\n",
       "         -0.06082558, -0.03288773],\n",
       "        [-0.15739915, -0.11779512,  0.01552115, ..., -0.04077707,\n",
       "          0.05379455, -0.21307437]], dtype=float32),\n",
       " array([ 0.01278937, -0.01398017,  0.01349776, -0.01083934, -0.0011539 ,\n",
       "        -0.01106919, -0.00050074,  0.00360581, -0.00629864,  0.01369291,\n",
       "        -0.00483237, -0.0100327 , -0.00127841, -0.00443089,  0.00732713,\n",
       "        -0.01855026], dtype=float32),\n",
       " array([[ 1.23240419e-01,  1.60706565e-01,  2.12558120e-01,\n",
       "         -2.59170592e-01, -2.00086534e-01, -4.30322915e-01,\n",
       "         -2.77633399e-01, -3.46072257e-01],\n",
       "        [ 4.15705979e-01, -1.10531114e-01, -1.33708924e-01,\n",
       "          2.82963544e-01,  1.97024569e-01, -9.36932117e-02,\n",
       "          4.19907451e-01,  1.75400957e-01],\n",
       "        [-2.03830659e-01,  2.05627531e-01, -9.66634303e-02,\n",
       "          4.35781658e-01, -1.24675870e-01, -2.20594287e-01,\n",
       "          1.90518156e-01,  4.14207786e-01],\n",
       "        [-2.39372507e-01, -4.24018130e-02, -4.11588281e-01,\n",
       "          1.24622546e-01,  4.87333298e-01,  2.52258986e-01,\n",
       "          3.97983611e-01, -8.43507349e-02],\n",
       "        [-2.72161007e-01,  3.04046273e-01, -2.75280178e-01,\n",
       "         -1.81187302e-01, -1.70801636e-02, -1.88229248e-01,\n",
       "          2.59174407e-01,  3.95861626e-01],\n",
       "        [ 8.53030831e-02, -2.91654404e-04,  3.73306572e-01,\n",
       "          3.87911171e-01,  1.45659804e-01,  2.51421124e-01,\n",
       "          4.92880285e-01, -2.83929974e-01],\n",
       "        [-1.55768663e-01,  2.66115278e-01,  4.44840431e-01,\n",
       "          2.34944269e-01, -9.15283933e-02,  4.62214440e-01,\n",
       "         -2.49513164e-02, -4.97815251e-01],\n",
       "        [-3.58507037e-01, -3.86187196e-01,  1.82587057e-01,\n",
       "          2.56267369e-01, -6.67766258e-02, -4.94794130e-01,\n",
       "          1.28910691e-01, -1.17897406e-01],\n",
       "        [-4.46055770e-01, -4.84878838e-01, -9.55918059e-02,\n",
       "          3.37036222e-01,  3.81217450e-01, -2.17615273e-02,\n",
       "          5.86940954e-03, -3.64326686e-01],\n",
       "        [ 4.39448595e-01, -2.99052835e-01,  5.80355972e-02,\n",
       "         -3.58755887e-01,  1.64897054e-01,  1.06228456e-01,\n",
       "         -2.33645543e-01,  1.02290452e-01],\n",
       "        [-1.11125492e-01, -8.47181156e-02, -4.00586635e-01,\n",
       "         -1.54752925e-01,  3.59925270e-01, -2.38732249e-01,\n",
       "         -1.04288375e-02,  7.75456727e-02],\n",
       "        [ 5.32868877e-02, -5.91424480e-03, -2.17401654e-01,\n",
       "          2.56995559e-01, -5.29373437e-02, -4.56371903e-01,\n",
       "          1.35878220e-01, -4.12303746e-01],\n",
       "        [-4.26282406e-01,  2.92395025e-01, -1.21878691e-01,\n",
       "         -3.11889380e-01,  4.56664890e-01, -1.49093702e-01,\n",
       "          4.76863742e-01, -1.37981236e-01],\n",
       "        [ 3.91235262e-01,  5.30495755e-02,  8.70286673e-03,\n",
       "          1.06873401e-01,  2.99892336e-01,  4.40016747e-01,\n",
       "          4.47718054e-02,  3.93458605e-01],\n",
       "        [ 4.34276253e-01,  4.67668951e-01,  6.50893617e-03,\n",
       "         -2.35318869e-01, -3.53236735e-01,  6.00641444e-02,\n",
       "         -2.89799005e-01,  1.77172482e-01],\n",
       "        [-2.83474118e-01, -2.03964978e-01, -6.65623024e-02,\n",
       "          4.37905550e-01,  4.79865121e-03, -2.09282450e-02,\n",
       "          3.11520368e-01,  2.81872183e-01]], dtype=float32),\n",
       " array([ 0.01406988, -0.01291338,  0.02029717, -0.0117337 , -0.01186106,\n",
       "        -0.00849636,  0.00848832,  0.00705059], dtype=float32),\n",
       " array([[ 0.50497955,  0.2381176 ,  0.2379161 ,  0.7183871 ],\n",
       "        [-0.33923745,  0.64820015,  0.3815758 , -0.08798126],\n",
       "        [-0.6191092 , -0.72128934,  0.6855722 , -0.01584628],\n",
       "        [-0.59948164,  0.6658338 , -0.70058227, -0.28292125],\n",
       "        [-0.3135321 ,  0.4703945 , -0.4334667 ,  0.22183074],\n",
       "        [-0.08778677, -0.11421214, -0.6420995 , -0.67310107],\n",
       "        [-0.6599556 , -0.10528333, -0.10531829, -0.35583815],\n",
       "        [ 0.639933  ,  0.6302838 , -0.60231286, -0.54191744]],\n",
       "       dtype=float32),\n",
       " array([-0.01728352, -0.01549186,  0.01666419,  0.01656815], dtype=float32),\n",
       " array([[ 0.16850664],\n",
       "        [ 1.0044075 ],\n",
       "        [-0.39360347],\n",
       "        [-0.8502363 ]], dtype=float32),\n",
       " array([-0.0173387], dtype=float32)]"
      ]
     },
     "execution_count": 23,
     "metadata": {},
     "output_type": "execute_result"
    }
   ],
   "source": [
    "model.get_weights()"
   ]
  },
  {
   "cell_type": "code",
   "execution_count": 24,
   "metadata": {},
   "outputs": [],
   "source": [
    "w_all = [layer.get_weights() for layer in model.layers[::-1] if not 'Drop' in layer.name]\n",
    "\n",
    "a_all = [keras.backend.function([model.input],[layer.output])(features[44:45]) for layer in model.layers[::-1] if not 'Drop' in layer.name]\n",
    "a_all.append([features[44:45]])"
   ]
  },
  {
   "cell_type": "code",
   "execution_count": 29,
   "metadata": {},
   "outputs": [],
   "source": [
    "R = [np.squeeze(a_all[0])]\n",
    "\n",
    "for lay in range( len(w_all)):\n",
    "    \n",
    "    w_jk = w_all[lay]                       # [weights, bias] | weights_shape = (lowerlayer, currentlayer)\n",
    "    a_j  = np.squeeze(a_all[lay+1]).T       # activation lower layer | shape = (node/input, sample) samp: -> to be handled via loop dot() difficulties\n",
    "    \n",
    "    z_k = a_j.dot(w_jk[0]) + w_jk[1]        #Step 1: for all k -> dotproduct along 1st dim (lowerlayer)\n",
    "    s_k = R[lay] / (z_k + 1e-9)             #Step 2: for all k -> element-wise operation\n",
    "    c_j = s_k.dot(w_jk[0].T)                #Step 3: for all j -> dotproduct along 2nd dim (currentlayer)\n",
    "    R.append(a_j * c_j)                     #STep 4: for all j -> element-wise operation"
   ]
  },
  {
   "cell_type": "code",
   "execution_count": 30,
   "metadata": {},
   "outputs": [
    {
     "data": {
      "text/plain": [
       "[array(0.18747345, dtype=float32),\n",
       " array([ 0.        ,  0.20481214, -0.        , -0.        ], dtype=float32),\n",
       " array([ 0.        ,  0.06669273, -0.        ,  0.        ,  0.06681256,\n",
       "        -0.        , -0.00949673,  0.09636371], dtype=float32),\n",
       " array([-0.00760941,  0.        ,  0.05475625,  0.02552941,  0.10445105,\n",
       "        -0.        , -0.        , -0.03820063, -0.07665475, -0.        ,\n",
       "         0.06135001, -0.        ,  0.        ,  0.        ,  0.10719582,\n",
       "         0.        ], dtype=float32),\n",
       " array([ 0.13525803,  0.        , -0.03307898,  0.0809067 , -0.00490854,\n",
       "         0.        ,  0.        , -0.        , -0.        ,  0.        ,\n",
       "        -0.05137784, -0.        ,  0.        , -0.        ,  0.02193714,\n",
       "         0.        ,  0.06130574,  0.03594927, -0.00359643, -0.00040218,\n",
       "        -0.        , -0.00026881, -0.01102195, -0.03976471, -0.08413622,\n",
       "         0.006801  ,  0.00470243,  0.        ,  0.0041475 , -0.        ,\n",
       "         0.        , -0.01853359,  0.01805667,  0.05083054, -0.00017914,\n",
       "        -0.        ,  0.0285959 ,  0.        , -0.        , -0.14577453,\n",
       "         0.        ,  0.0087094 ,  0.        , -0.        , -0.        ,\n",
       "        -0.        , -0.        ,  0.05958965,  0.10194576,  0.        ,\n",
       "        -0.02759697, -0.00639924, -0.        ,  0.        , -0.        ,\n",
       "        -0.00699359,  0.01284913, -0.01278744,  0.        , -0.00427473,\n",
       "        -0.        , -0.        ,  0.        ,  0.04775536], dtype=float32),\n",
       " array([ 0.00957461, -0.14593298,  0.38401406, -0.02766708, -0.00565823])]"
      ]
     },
     "execution_count": 30,
     "metadata": {},
     "output_type": "execute_result"
    }
   ],
   "source": [
    "R"
   ]
  },
  {
   "cell_type": "code",
   "execution_count": 31,
   "metadata": {},
   "outputs": [
    {
     "data": {
      "text/plain": [
       "[0.18747345,\n",
       " 0.20481214,\n",
       " 0.22037226,\n",
       " 0.23081776,\n",
       " 0.22824536,\n",
       " 0.2143303808105773]"
      ]
     },
     "execution_count": 31,
     "metadata": {},
     "output_type": "execute_result"
    }
   ],
   "source": [
    "[l.sum() for l in R]"
   ]
  },
  {
   "cell_type": "code",
   "execution_count": 32,
   "metadata": {},
   "outputs": [
    {
     "data": {
      "text/plain": [
       "[0.017338695, 0.06600772, 0.094910465, 0.1338796, 0.58238846]"
      ]
     },
     "execution_count": 32,
     "metadata": {},
     "output_type": "execute_result"
    }
   ],
   "source": [
    "w = [np.absolute(item).sum() for items in w_all for item in items][1::2]\n",
    "w"
   ]
  },
  {
   "cell_type": "code",
   "execution_count": 35,
   "metadata": {},
   "outputs": [
    {
     "data": {
      "text/plain": [
       "array([0.01728352, 0.01549186, 0.01666419, 0.01656815], dtype=float32)"
      ]
     },
     "execution_count": 35,
     "metadata": {},
     "output_type": "execute_result"
    }
   ],
   "source": [
    "np.absolute(w_all[1][1])"
   ]
  },
  {
   "cell_type": "code",
   "execution_count": 357,
   "metadata": {},
   "outputs": [
    {
     "data": {
      "text/plain": [
       "[array(0.10011413, dtype=float32)]"
      ]
     },
     "execution_count": 357,
     "metadata": {},
     "output_type": "execute_result"
    }
   ],
   "source": [
    "R = [np.squeeze(a_all[0])]\n",
    "R"
   ]
  },
  {
   "cell_type": "code",
   "execution_count": 332,
   "metadata": {},
   "outputs": [
    {
     "data": {
      "text/plain": [
       "[array([[ 0.1089761],\n",
       "        [-0.1247712]], dtype=float32),\n",
       " array([-0.09073978], dtype=float32)]"
      ]
     },
     "execution_count": 332,
     "metadata": {},
     "output_type": "execute_result"
    }
   ],
   "source": [
    "lay = 0\n",
    "w_jk = w_all[lay] \n",
    "w_jk"
   ]
  },
  {
   "cell_type": "code",
   "execution_count": 334,
   "metadata": {},
   "outputs": [
    {
     "data": {
      "text/plain": [
       "array([1.7513374, 0.       ], dtype=float32)"
      ]
     },
     "execution_count": 334,
     "metadata": {},
     "output_type": "execute_result"
    }
   ],
   "source": [
    "a_j  = np.squeeze(a_all[lay+1]).T \n",
    "a_j"
   ]
  },
  {
   "cell_type": "code",
   "execution_count": 335,
   "metadata": {},
   "outputs": [
    {
     "data": {
      "text/plain": [
       "array([0.10011413], dtype=float32)"
      ]
     },
     "execution_count": 335,
     "metadata": {},
     "output_type": "execute_result"
    }
   ],
   "source": [
    "z_k = a_j.dot(w_jk[0]) + w_jk[1]\n",
    "z_k"
   ]
  },
  {
   "cell_type": "code",
   "execution_count": 336,
   "metadata": {},
   "outputs": [
    {
     "data": {
      "text/plain": [
       "array([1.], dtype=float32)"
      ]
     },
     "execution_count": 336,
     "metadata": {},
     "output_type": "execute_result"
    }
   ],
   "source": [
    "s_k = R[lay] / (z_k + 1e-9)\n",
    "s_k"
   ]
  },
  {
   "cell_type": "code",
   "execution_count": 355,
   "metadata": {},
   "outputs": [
    {
     "data": {
      "text/plain": [
       "array([ 0.1089761 , -0.1247712 , -0.09073978], dtype=float32)"
      ]
     },
     "execution_count": 355,
     "metadata": {},
     "output_type": "execute_result"
    }
   ],
   "source": [
    "c_j = s_k.dot(np.concatenate((w_jk[0], w_jk[1].reshape((1, 1)))).T)\n",
    "c_j"
   ]
  },
  {
   "cell_type": "code",
   "execution_count": 356,
   "metadata": {},
   "outputs": [
    {
     "ename": "ValueError",
     "evalue": "operands could not be broadcast together with shapes (2,) (3,) ",
     "output_type": "error",
     "traceback": [
      "\u001b[0;31m---------------------------------------------------------------------------\u001b[0m",
      "\u001b[0;31mValueError\u001b[0m                                Traceback (most recent call last)",
      "\u001b[0;32m<ipython-input-356-cbc43d589493>\u001b[0m in \u001b[0;36m<module>\u001b[0;34m\u001b[0m\n\u001b[0;32m----> 1\u001b[0;31m \u001b[0ma_j\u001b[0m \u001b[0;34m*\u001b[0m \u001b[0mc_j\u001b[0m\u001b[0;34m\u001b[0m\u001b[0;34m\u001b[0m\u001b[0m\n\u001b[0m",
      "\u001b[0;31mValueError\u001b[0m: operands could not be broadcast together with shapes (2,) (3,) "
     ]
    }
   ],
   "source": [
    "a_j * c_j"
   ]
  },
  {
   "cell_type": "code",
   "execution_count": null,
   "metadata": {},
   "outputs": [],
   "source": []
  }
 ],
 "metadata": {
  "kernelspec": {
   "display_name": "Python 3",
   "language": "python",
   "name": "python3"
  },
  "language_info": {
   "codemirror_mode": {
    "name": "ipython",
    "version": 3
   },
   "file_extension": ".py",
   "mimetype": "text/x-python",
   "name": "python",
   "nbconvert_exporter": "python",
   "pygments_lexer": "ipython3",
   "version": "3.8.8"
  }
 },
 "nbformat": 4,
 "nbformat_minor": 4
}
