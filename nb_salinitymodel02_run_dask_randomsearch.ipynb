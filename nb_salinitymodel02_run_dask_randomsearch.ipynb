{
 "cells": [
  {
   "cell_type": "markdown",
   "id": "printable-drink",
   "metadata": {
    "tags": []
   },
   "source": [
    "# Salinity Setup:<br>Dask Random Search for NN Prediction of Sahelian Summer Rainfall\n",
    "***"
   ]
  },
  {
   "cell_type": "code",
   "execution_count": 1,
   "id": "million-rapid",
   "metadata": {
    "tags": []
   },
   "outputs": [],
   "source": [
    "import numpy as np\n",
    "import pandas as pd \n",
    "import xarray as xr\n",
    "\n",
    "\n",
    "import matplotlib.pyplot as plt\n",
    "%matplotlib inline\n",
    "\n",
    "import scipy.stats as st\n",
    "\n",
    "from sklearn.model_selection import ShuffleSplit, KFold\n",
    "from sklearn.utils import shuffle\n",
    "\n",
    "import tensorflow as tf\n",
    "from tensorflow import keras\n",
    "from tensorflow.keras import layers\n",
    "from tensorflow.keras import regularizers\n",
    "from tensorflow.keras.callbacks import TensorBoard \n",
    "import tensorflow_addons as tfa\n",
    "\n",
    "from tensorboard.plugins.hparams import api as hp\n",
    "%load_ext tensorboard\n",
    "\n",
    "import dask\n",
    "from dask import delayed\n",
    "import dask.bag as db"
   ]
  },
  {
   "cell_type": "markdown",
   "id": "romantic-surge",
   "metadata": {},
   "source": [
    "<br>\n",
    "\n",
    "## 1. Dask Client\n",
    "---"
   ]
  },
  {
   "cell_type": "code",
   "execution_count": 2,
   "id": "incident-assessment",
   "metadata": {},
   "outputs": [
    {
     "data": {
      "text/html": [
       "<table style=\"border: 2px solid white;\">\n",
       "<tr>\n",
       "<td style=\"vertical-align: top; border: 0px solid white\">\n",
       "<h3 style=\"text-align: left;\">Client</h3>\n",
       "<ul style=\"text-align: left; list-style: none; margin: 0; padding: 0;\">\n",
       "  <li><b>Scheduler: </b>tcp://127.0.0.1:43933</li>\n",
       "  <li><b>Dashboard: </b><a href='http://127.0.0.1:8787/status' target='_blank'>http://127.0.0.1:8787/status</a></li>\n",
       "</ul>\n",
       "</td>\n",
       "<td style=\"vertical-align: top; border: 0px solid white\">\n",
       "<h3 style=\"text-align: left;\">Cluster</h3>\n",
       "<ul style=\"text-align: left; list-style:none; margin: 0; padding: 0;\">\n",
       "  <li><b>Workers: </b>1</li>\n",
       "  <li><b>Cores: </b>4</li>\n",
       "  <li><b>Memory: </b>64.00 GB</li>\n",
       "</ul>\n",
       "</td>\n",
       "</tr>\n",
       "</table>"
      ],
      "text/plain": [
       "<Client: 'tcp://127.0.0.1:43933' processes=1 threads=4, memory=64.00 GB>"
      ]
     },
     "execution_count": 2,
     "metadata": {},
     "output_type": "execute_result"
    }
   ],
   "source": [
    "from dask.distributed import Client\n",
    "\n",
    "client = Client(n_workers=1, threads_per_worker=4, memory_limit=64e9)\n",
    "client"
   ]
  },
  {
   "cell_type": "markdown",
   "id": "fixed-russell",
   "metadata": {},
   "source": [
    "<br>\n",
    "\n",
    "## 2. Data Loading\n",
    "***"
   ]
  },
  {
   "cell_type": "markdown",
   "id": "common-honolulu",
   "metadata": {},
   "source": [
    "**feat_pc:** Principal Components of climate indices. Used for model input.  \n",
    "**labels:** from Sahelrainfall data serves as reference data."
   ]
  },
  {
   "cell_type": "code",
   "execution_count": 3,
   "id": "departmental-amazon",
   "metadata": {},
   "outputs": [],
   "source": [
    "features = xr.open_dataset('data/da_final_salinitymodel.nc').feat_pc.values\n",
    "labels = xr.open_dataset('data/da_final_salinitymodel.nc').labels.values"
   ]
  },
  {
   "cell_type": "markdown",
   "id": "subsequent-newport",
   "metadata": {},
   "source": [
    "<br>\n",
    "\n",
    "## 3. MODEL SETUP AND TUNING\n",
    "***"
   ]
  },
  {
   "cell_type": "markdown",
   "id": "daily-manhattan",
   "metadata": {},
   "source": [
    "<br>\n",
    "\n",
    "### Build Model Function\n",
    "---"
   ]
  },
  {
   "cell_type": "code",
   "execution_count": 4,
   "id": "cleared-socket",
   "metadata": {},
   "outputs": [],
   "source": [
    "def BuildModel(HPARAMS):\n",
    "    model = keras.Sequential([\n",
    "#         layers.Dropout(0.1, input_shape=(20,)),\n",
    "        layers.Dense(HPARAMS['n_units_l1'], 'relu' ,name=\"layer1\", input_shape=(22,)),\n",
    "        layers.Dropout(HPARAMS['dropout'], name='Dropout1'),\n",
    "        \n",
    "        layers.Dense(HPARAMS['n_units_l2'], 'relu', name=\"layer2\"),\n",
    "        layers.Dropout(HPARAMS['dropout'], name='Dropout2'),\n",
    "        \n",
    "        layers.Dense(HPARAMS['n_units_l3'], 'relu', name=\"layer3\"),\n",
    "        layers.Dropout(HPARAMS['dropout'], name='Dropout3'),\n",
    "        \n",
    "        layers.Dense(HPARAMS['n_units_l4'], 'relu', name=\"layer4\"),\n",
    "        layers.Dropout(HPARAMS['dropout'], name='Dropout4'),\n",
    "        \n",
    "        layers.Dense(HPARAMS['n_units_l5'], 'relu', name=\"layer5\"),\n",
    "        \n",
    "        \n",
    "        layers.Dense(1, name='output'), #activation='linear'\n",
    "    ])\n",
    "    model.compile(\n",
    "        loss='mean_squared_error',\n",
    "        optimizer=keras.optimizers.Adam(\n",
    "            learning_rate=HPARAMS['learn_rate']\n",
    "        )\n",
    "    )\n",
    "    return model\n",
    "\n",
    "# testmodel = BuildModel({'optimizer': 'Adam', 'learn_rate': 0.1, 'n_units': 10, 'dropout':0.1})\n",
    "# print(testmodel.summary())"
   ]
  },
  {
   "cell_type": "markdown",
   "id": "psychological-monitoring",
   "metadata": {},
   "source": [
    "<br>\n",
    "\n",
    "### Single Run Training & Error Calculation Funktion\n",
    "---"
   ]
  },
  {
   "cell_type": "code",
   "execution_count": 5,
   "id": "closed-agenda",
   "metadata": {},
   "outputs": [],
   "source": [
    "def TrainModel(SPLIT, HPARAM, features):\n",
    "    \n",
    "    model = BuildModel(HPARAM)\n",
    "    \n",
    "    hist_dir = parent_dir + f\"/run-{HPARAM['grid_num']:04d}\" + f\"/split-{SPLIT['split_num']:02d}\"\n",
    "    \n",
    "    train_history = model.fit(\n",
    "        features[SPLIT['train_index']],\n",
    "        labels[SPLIT['train_index']],\n",
    "        batch_size=HPARAM['batch_size'],\n",
    "        epochs=200,\n",
    "        verbose=0,\n",
    "        callbacks=[earlystop],\n",
    "    )\n",
    "    \n",
    "\n",
    "    y_train = np.squeeze(model.predict(features[SPLIT['train_index']]))\n",
    "    y_test = np.squeeze(model.predict(features[SPLIT['test_index']]))\n",
    "\n",
    "    train_error = y_train - labels[SPLIT['train_index']]\n",
    "    train_ae = np.absolute(train_error)\n",
    "    train_mae = np.mean(train_ae)\n",
    "    train_mad = np.median(np.absolute(train_error - np.median(train_error)))\n",
    "    train_mse = np.mean(train_error**2)\n",
    "    train_rmse = np.sqrt(train_mse)\n",
    "    train_corr = st.pearsonr(y_train, labels[SPLIT['train_index']])[0]\n",
    "    \n",
    "    test_error = y_test - labels[SPLIT['test_index']]\n",
    "    test_ae = np.absolute(test_error)\n",
    "    test_mae = np.mean(test_ae)\n",
    "    test_mad = np.median(np.absolute(test_error - np.median(test_error)))\n",
    "    test_mse = np.mean(test_error**2)\n",
    "    test_rmse = np.sqrt(test_mse)\n",
    "    test_corr = st.pearsonr(y_test, labels[SPLIT['test_index']])[0]\n",
    "\n",
    "    training_length = len(train_history.history['loss'])\n",
    "    \n",
    "    metrics = {\n",
    "        'train_mae': train_mae,\n",
    "        'train_mad': train_mad,\n",
    "        'train_mse': train_mse,\n",
    "        'train_rmse': train_rmse,\n",
    "        'train_corr': train_corr,\n",
    "        'test_mae': test_mae,\n",
    "        'test_mad': test_mad,\n",
    "        'test_mse': test_mse,\n",
    "        'test_rmse': test_rmse,\n",
    "        'test_corr': test_corr,\n",
    "        'training_length': training_length,\n",
    "\n",
    "    }\n",
    "#     train_error = y_train - labels[SPLIT['train_index']]\n",
    "#     train_mse = np.mean(train_error**2) \n",
    "#     train_corr = st.pearsonr(y_train, labels[SPLIT['train_index']])[0]\n",
    "    \n",
    "#     test_error = y_test - labels[SPLIT['test_index']]\n",
    "#     test_mse = np.mean(test_error**2) \n",
    "#     test_corr = st.pearsonr(y_test, labels[SPLIT['test_index']])[0]\n",
    "\n",
    "\n",
    "    \n",
    "#     metrics = {\n",
    "#         'train_mse': train_mse,\n",
    "#         'train_corr': train_corr,\n",
    "#         'test_mse': test_mse,\n",
    "#         'test_corr': test_corr,\n",
    "#         'training_length': training_length\n",
    "#     }\n",
    "    \n",
    "    return metrics"
   ]
  },
  {
   "cell_type": "markdown",
   "id": "sunrise-pocket",
   "metadata": {},
   "source": [
    "<br>\n",
    "\n",
    "### Cross-Validation and Log Function\n",
    "---"
   ]
  },
  {
   "cell_type": "code",
   "execution_count": 6,
   "id": "essential-mouth",
   "metadata": {},
   "outputs": [],
   "source": [
    "def TuneModel(HPARAM):\n",
    "    \n",
    "    \n",
    "    with tf.summary.create_file_writer(parent_dir + f\"/run-{HPARAM['grid_num']:04d}\").as_default():\n",
    "        hp.hparams({\n",
    "            HP_LEARN_RATE: HPARAM['learn_rate'],\n",
    "            HP_NUMBER_HIDDEN_UNITS_L1: HPARAM['n_units_l1'],\n",
    "            HP_NUMBER_HIDDEN_UNITS_L2: HPARAM['n_units_l2'],\n",
    "            HP_NUMBER_HIDDEN_UNITS_L3: HPARAM['n_units_l3'],\n",
    "            HP_NUMBER_HIDDEN_UNITS_L4: HPARAM['n_units_l4'],\n",
    "            HP_NUMBER_HIDDEN_UNITS_L5: HPARAM['n_units_l5'],\n",
    "            HP_BATCH_SIZE: HPARAM['batch_size'],\n",
    "            HP_DROPOUT: HPARAM['dropout']\n",
    "        })\n",
    "                \n",
    "        metrics = SPLITS.map(lambda SPLIT: TrainModel(SPLIT, HPARAM, features)).compute()\n",
    "\n",
    "        train_mae = [metric['train_mae'] for metric in metrics]\n",
    "        train_mad = [metric['train_mad'] for metric in metrics]\n",
    "        train_mse = [metric['train_mse'] for metric in metrics]\n",
    "        train_rmse = [metric['train_rmse'] for metric in metrics]\n",
    "        train_corr = [metric['train_corr'] for metric in metrics]\n",
    "        test_mae = [metric['test_mae'] for metric in metrics]\n",
    "        test_mad = [metric['test_mad'] for metric in metrics]\n",
    "        test_mse = [metric['test_mse'] for metric in metrics]\n",
    "        test_rmse = [metric['test_rmse'] for metric in metrics]\n",
    "        test_corr = [metric['test_corr'] for metric in metrics]\n",
    "        training_length = [metric['training_length'] for metric in metrics]\n",
    "\n",
    "#         train_mse = [metric['train_mse'] for metric in metrics]\n",
    "#         train_corr = [metric['train_corr'] for metric in metrics]\n",
    "#         test_mse = [metric['test_mse'] for metric in metrics]\n",
    "#         test_corr = [metric['test_corr'] for metric in metrics]\n",
    "        \n",
    "        result = {\n",
    "        'train_mae_mu': np.mean(train_mae),\n",
    "        'train_mae_sig': np.std( train_mae),\n",
    "        'train_mad_mu': np.mean(train_mad),\n",
    "        'train_mad_sig': np.std( train_mad),\n",
    "        'train_mse_mu': np.mean(train_mse),\n",
    "        'train_mse_sig': np.std( train_mse),\n",
    "        'train_rmse_mu': np.mean(train_rmse),\n",
    "        'train_rmse_sig': np.std( train_rmse),\n",
    "        'train_corr_mu': np.mean(train_corr),\n",
    "        'train_corr_sig': np.std( train_corr),\n",
    "        'test_mae_mu': np.mean(test_mae),\n",
    "        'test_mae_sig': np.std( test_mae),\n",
    "        'test_mad_mu': np.mean(test_mad),\n",
    "        'test_mad_sig': np.std( test_mad),\n",
    "        'test_mse_mu': np.mean(test_mse),\n",
    "        'test_mse_sig': np.std( test_mse),\n",
    "        'test_rmse_mu': np.mean(test_rmse),\n",
    "        'test_rmse_sig': np.std( test_rmse),\n",
    "        'test_corr_mu': np.mean(test_corr),\n",
    "        'test_corr_sig': np.std( test_corr),\n",
    "#         'train_mse_mu': np.mean(train_mse),\n",
    "#         'train_mse_sig': np.std(train_mse),\n",
    "#         'train_corr_mu': np.mean(train_corr),\n",
    "#         'train_corr_sig': np.std(train_corr),\n",
    "#         'test_mse_mu': np.mean(test_mse),\n",
    "#         'test_mse_sig': np.std(test_mse),\n",
    "#         'test_corr_mu': np.mean(test_corr),\n",
    "#         'test_corr_sig': np.std(test_corr), \n",
    "        'training_length_mu': np.mean(training_length),\n",
    "        'training_length_sig': np.std(training_length),             \n",
    "        }\n",
    "\n",
    "        tf.summary.scalar('train_mae_mu', result['train_mae_mu'], step=1)\n",
    "        tf.summary.scalar('train_mae_sig', result['train_mae_sig'], step=1)\n",
    "        tf.summary.scalar('train_mad_mu', result['train_mad_mu'], step=1)\n",
    "        tf.summary.scalar('train_mad_sig', result['train_mad_sig'], step=1)\n",
    "        tf.summary.scalar('train_mse_mu', result['train_mse_mu'], step=1)\n",
    "        tf.summary.scalar('train_mse_sig', result['train_mse_sig'], step=1)\n",
    "        tf.summary.scalar('train_rmse_mu', result['train_rmse_mu'],  step=1)\n",
    "        tf.summary.scalar('train_rmse_sig', result['train_rmse_sig'], step=1)\n",
    "        tf.summary.scalar('train_corr_mu', result['train_corr_mu'], step=1)\n",
    "        tf.summary.scalar('train_corr_sig', result['train_corr_sig'], step=1)\n",
    "        tf.summary.scalar('test_mae_mu', result['test_mae_mu'], step=1)\n",
    "        tf.summary.scalar('test_mae_sig', result['test_mae_sig'], step=1)\n",
    "        tf.summary.scalar('test_mad_mu', result['test_mad_mu'], step=1)\n",
    "        tf.summary.scalar('test_mad_sig', result['test_mad_sig'], step=1)\n",
    "        tf.summary.scalar('test_mse_mu', result['test_mse_mu'], step=1)\n",
    "        tf.summary.scalar('test_mse_sig', result['test_mse_sig'], step=1)\n",
    "        tf.summary.scalar('test_rmse_mu', result['test_rmse_mu'], step=1)\n",
    "        tf.summary.scalar('test_rmse_sig', result['test_rmse_sig'], step=1)\n",
    "        tf.summary.scalar('test_corr_mu', result['test_corr_mu'], step=1)\n",
    "        tf.summary.scalar('test_corr_sig', result['test_corr_sig'], step=1)\n",
    "        tf.summary.scalar('training_length_mu', result['training_length_mu'], step=1)\n",
    "        tf.summary.scalar('training_length_sig', result['training_length_sig'], step=1)\n",
    "        \n",
    "#         tf.summary.scalar(METRIC_TRAIN_MSE_MU,        result['train_mse_mu'],  step=1)\n",
    "#         tf.summary.scalar(METRIC_TRAIN_MSE_SIG,       result['train_mse_sig'],   step=1)\n",
    "#         tf.summary.scalar(METRIC_TRAIN_CORR_MU,       result['train_corr_mu'], step=1)\n",
    "#         tf.summary.scalar(METRIC_TRAIN_CORR_SIG,      result['train_corr_sig'],  step=1)\n",
    "#         tf.summary.scalar(METRIC_TEST_MSE_MU,         result['test_mse_mu'],   step=1)\n",
    "#         tf.summary.scalar(METRIC_TEST_MSE_SIG,        result['test_mse_sig'],    step=1)\n",
    "#         tf.summary.scalar(METRIC_TEST_CORR_MU,        result['test_corr_mu'],  step=1)\n",
    "#         tf.summary.scalar(METRIC_TEST_CORR_SIG,       result['test_corr_sig'],   step=1)\n",
    "#         tf.summary.scalar(METRIC_TRAINING_LENGTH_MU,  result['training_length_mu'],  step=1)\n",
    "#         tf.summary.scalar(METRIC_TRAINING_LENGTH_SIG, result['training_length_sig'],   step=1)\n",
    "        \n",
    "    return result"
   ]
  },
  {
   "cell_type": "markdown",
   "id": "optimum-eclipse",
   "metadata": {},
   "source": [
    "<br>\n",
    "\n",
    "## 4. Setup and Start Random Search\n",
    "---"
   ]
  },
  {
   "cell_type": "markdown",
   "id": "injured-malpractice",
   "metadata": {},
   "source": [
    "<br>\n",
    "\n",
    "### Set Parent Directory\n",
    "---"
   ]
  },
  {
   "cell_type": "code",
   "execution_count": 7,
   "id": "crude-junior",
   "metadata": {},
   "outputs": [],
   "source": [
    "parent_dir = 'logs/salinity_rand4_4/'"
   ]
  },
  {
   "cell_type": "markdown",
   "id": "immune-knife",
   "metadata": {},
   "source": [
    "##### Clear Directory"
   ]
  },
  {
   "cell_type": "code",
   "execution_count": 8,
   "id": "uniform-stage",
   "metadata": {},
   "outputs": [],
   "source": [
    "# rm -rf logs/salinity_rand_1/*"
   ]
  },
  {
   "cell_type": "markdown",
   "id": "accepted-harbor",
   "metadata": {},
   "source": [
    "<br>\n",
    "\n",
    "### Hyperparameter Setup\n",
    "***"
   ]
  },
  {
   "cell_type": "code",
   "execution_count": 9,
   "id": "capable-variable",
   "metadata": {},
   "outputs": [],
   "source": [
    "###################################\n",
    "#####EXAMPLE SETUP FOR TESTING#####\n",
    "###################################\n",
    "\n",
    "nruns = 200\n",
    "e_s_patience = 5\n",
    "units_opt = [5, 10, 20, 30, 40, 50, 60] #Discrete\n",
    "learn_min = 0.001 #Log Scale\n",
    "learn_max = 0.1 #Log Scale\n",
    "batch_min = 3 #uniform\n",
    "batch_max = 10 #uniform\n",
    "drop_min = 0.1 #Uniform\n",
    "drop_max = 0.5 #Uniform\n",
    "\n",
    "#GRID SERACH HYPERPARAMETER#\n",
    "#---------------------------\n",
    "HP_LEARN_RATE = hp.HParam('learn_rate', hp.RealInterval(learn_min, learn_max),display_name='Learning Rate') # LogScale\n",
    "HP_NUMBER_HIDDEN_UNITS_L1= hp.HParam('n_units_l1', hp.Discrete(units_opt),display_name='L1 Hidden Units') #uniform\n",
    "HP_NUMBER_HIDDEN_UNITS_L2= hp.HParam('n_units_l2', hp.Discrete(units_opt),display_name='L2 Hidden Units') #uniform\n",
    "HP_NUMBER_HIDDEN_UNITS_L3= hp.HParam('n_units_l3', hp.Discrete(units_opt),display_name='L3 Hidden Units') #uniform\n",
    "HP_NUMBER_HIDDEN_UNITS_L4= hp.HParam('n_units_l4', hp.Discrete(units_opt),display_name='L4 Hidden Units') #uniform\n",
    "HP_NUMBER_HIDDEN_UNITS_L5= hp.HParam('n_units_l5', hp.Discrete(units_opt),display_name='L5 Hidden Units') #uniform\n",
    "HP_BATCH_SIZE = hp.HParam('batch_size', hp.IntInterval(batch_min, batch_max),display_name='Batch Size') #Uniform\n",
    "HP_DROPOUT = hp.HParam('dropout', hp.RealInterval(drop_min, drop_max),display_name='Dropout') #Uniform\n",
    "\n",
    "\n",
    "\n",
    "#CROSS VALIDATION PARAMETER (NO PART OF GRID SEARCH)#\n",
    "#----------------------------------------------------\n",
    "cv_param={\n",
    "    'N_FOLDS': 10,         # number of folds -> small for Test Runs\n",
    "}\n",
    "\n",
    "#Early STOPPING (NO PART OF OPTIMISATION)#\n",
    "#----------------------------------------#\n",
    "earlystop = tf.keras.callbacks.EarlyStopping(monitor='loss', patience=e_s_patience)\n",
    "\n",
    "# hist_dir = parent_dir + f\"/run-{HPARAM['grid_num']:04d}\" + datetime.now().strftime(\"%Y%m%d-%H%M%S\")\n",
    "# tensorboard_callback = keras.callbacks.TensorBoard(log_dir=hist_dir)"
   ]
  },
  {
   "cell_type": "markdown",
   "id": "satellite-tracy",
   "metadata": {},
   "source": [
    "<br>\n",
    "\n",
    "### Create HP Bag\n",
    "***"
   ]
  },
  {
   "cell_type": "code",
   "execution_count": 10,
   "id": "negative-cincinnati",
   "metadata": {},
   "outputs": [],
   "source": [
    "learn_rate = 10**np.random.uniform(np.log10(learn_max),np.log10(learn_min), nruns)\n",
    "n_units_l1 = np.random.choice(units_opt, nruns)\n",
    "n_units_l2 = np.random.choice(units_opt, nruns)\n",
    "n_units_l3 = np.random.choice(units_opt, nruns)\n",
    "n_units_l4 = np.random.choice(units_opt, nruns)\n",
    "n_units_l5 = np.random.choice(units_opt, nruns)\n",
    "batch_size = np.random.uniform(batch_min, batch_max, nruns).astype(int)\n",
    "dropout = np.random.uniform(drop_min, drop_max, nruns)\n",
    "\n",
    "hparams = []\n",
    "\n",
    "for i in range(nruns):\n",
    "\n",
    "    hparams.append(\n",
    "            {\n",
    "            'grid_num': i,\n",
    "            'learn_rate': learn_rate[i],\n",
    "            'n_units_l1': n_units_l1[i],\n",
    "            'n_units_l2': n_units_l2[i],\n",
    "            'n_units_l3': n_units_l3[i],\n",
    "            'n_units_l4': n_units_l4[i],\n",
    "            'n_units_l5': n_units_l5[i],\n",
    "            'batch_size': batch_size[i],\n",
    "            'dropout': dropout[i],       \n",
    "            }\n",
    "        )\n",
    "                        \n",
    "HPARAMS = db.from_sequence(hparams, npartitions=10)\n",
    "\n",
    "# HPARAMS.take(2,1)\n",
    "# HPARAMS"
   ]
  },
  {
   "cell_type": "markdown",
   "id": "altered-advertising",
   "metadata": {},
   "source": [
    "<br>\n",
    "\n",
    "### Create Data Splits Bag (KFold with permutation)\n",
    "***"
   ]
  },
  {
   "cell_type": "code",
   "execution_count": 11,
   "id": "harmful-drain",
   "metadata": {},
   "outputs": [],
   "source": [
    "split_num = 0\n",
    "splits = []\n",
    "for train, test in KFold(n_splits=cv_param['N_FOLDS'], shuffle=True).split(features):                      #KFold\n",
    "\n",
    "    train = shuffle(train)\n",
    "    test  = shuffle(test)\n",
    "# for train, test in ShuffleSplit(n_splits=cv_param['N_FOLDS'], test_size=cv_param['TEST_FRAC']).split(predictor_pc):\n",
    "    splits.append(\n",
    "        {\n",
    "        'train_index': train,\n",
    "        'test_index': test,\n",
    "        'split_num': split_num\n",
    "        }\n",
    "    )\n",
    "    split_num += 1 \n",
    "\n",
    "SPLITS = db.from_sequence (splits, npartitions=1)\n",
    "\n",
    "# SPLITS.take(1, 2)\n",
    "# SPLITS"
   ]
  },
  {
   "cell_type": "markdown",
   "id": "progressive-ceremony",
   "metadata": {},
   "source": [
    "<br>\n",
    "\n",
    "### Log Experiment Confiuration to TensorBoard\n",
    "---"
   ]
  },
  {
   "cell_type": "code",
   "execution_count": 12,
   "id": "weird-branch",
   "metadata": {},
   "outputs": [],
   "source": [
    "with tf.summary.create_file_writer(parent_dir).as_default():\n",
    "    hp.hparams_config(\n",
    "        hparams=[\n",
    "            HP_LEARN_RATE,\n",
    "            HP_NUMBER_HIDDEN_UNITS_L1,\n",
    "            HP_NUMBER_HIDDEN_UNITS_L2,\n",
    "            HP_NUMBER_HIDDEN_UNITS_L3,\n",
    "            HP_NUMBER_HIDDEN_UNITS_L4,\n",
    "            HP_NUMBER_HIDDEN_UNITS_L5,\n",
    "            HP_BATCH_SIZE,\n",
    "            HP_DROPOUT\n",
    "        ],\n",
    "        metrics=[\n",
    "            hp.Metric('train_mae_mu',   display_name='Training Sample MAE µ'),\n",
    "            hp.Metric('train_mae_sig',  display_name='Training Sample MAE σ'),\n",
    "            hp.Metric('train_mad_mu',   display_name='Training Sample MAD µ'),\n",
    "            hp.Metric('train_mad_sig',  display_name='Training Sample MAD σ'),\n",
    "            hp.Metric('train_mse_mu',   display_name='Training Sample MSE µ'),\n",
    "            hp.Metric('train_mse_sig',  display_name='Training Sample MSE σ'),\n",
    "            hp.Metric('train_rmse_mu',   display_name='Training Sample RMSE µ'),\n",
    "            hp.Metric('train_rmse_sig',  display_name='Training Sample RMSE σ'),\n",
    "            hp.Metric('train_corr_mu',  display_name='Training Sample Correlation µ'),\n",
    "            hp.Metric('train_corr_sig', display_name='Training Sample Correlation σ'),\n",
    "            hp.Metric('test_mae_mu',   display_name='Test Sample MAE µ'),\n",
    "            hp.Metric('test_mae_sig',  display_name='Test Sample MAE σ'),\n",
    "            hp.Metric('test_mad_mu',   display_name='Test Sample MAD µ'),\n",
    "            hp.Metric('test_mad_sig',  display_name='Test Sample MAD σ'),\n",
    "            hp.Metric('test_mse_mu',   display_name='Test Sample MSE µ'),\n",
    "            hp.Metric('test_mse_sig',  display_name='Test Sample MSE σ'),\n",
    "            hp.Metric('test_rmse_mu',   display_name='Test Sample RMSE µ'),\n",
    "            hp.Metric('test_rmse_sig',  display_name='Test Sample RMSE σ'),\n",
    "            hp.Metric('test_corr_mu',  display_name='Test Sample Correlation µ'),\n",
    "            hp.Metric('test_corr_sig', display_name='Test Sample Correlation σ'),            \n",
    "            hp.Metric('training_length_mu', display_name='Training Length µ'),\n",
    "            hp.Metric('training_length_sig', display_name='Training Length σ'),\n",
    "        ],\n",
    "    )"
   ]
  },
  {
   "cell_type": "markdown",
   "id": "organized-clearance",
   "metadata": {},
   "source": [
    "<br>\n",
    "\n",
    "### Run Model\n",
    "***"
   ]
  },
  {
   "cell_type": "code",
   "execution_count": 13,
   "id": "academic-wagon",
   "metadata": {},
   "outputs": [
    {
     "name": "stderr",
     "output_type": "stream",
     "text": [
      "distributed.nanny - WARNING - Worker process still alive after 3 seconds, killing\n"
     ]
    },
    {
     "name": "stdout",
     "output_type": "stream",
     "text": [
      "CPU times: user 18min 7s, sys: 33.7 s, total: 18min 41s\n",
      "Wall time: 44min 12s\n"
     ]
    }
   ],
   "source": [
    "%%time\n",
    "results = HPARAMS.map(lambda HPARAM: TuneModel(HPARAM)).compute()\n",
    "client.close()"
   ]
  },
  {
   "cell_type": "markdown",
   "id": "posted-today",
   "metadata": {},
   "source": [
    "<br>\n",
    "<br>\n",
    "\n",
    "***\n",
    "***\n",
    "<br>\n",
    "<br>"
   ]
  }
 ],
 "metadata": {
  "kernelspec": {
   "display_name": "Python 3",
   "language": "python",
   "name": "python3"
  },
  "language_info": {
   "codemirror_mode": {
    "name": "ipython",
    "version": 3
   },
   "file_extension": ".py",
   "mimetype": "text/x-python",
   "name": "python",
   "nbconvert_exporter": "python",
   "pygments_lexer": "ipython3",
   "version": "3.8.8"
  }
 },
 "nbformat": 4,
 "nbformat_minor": 5
}
