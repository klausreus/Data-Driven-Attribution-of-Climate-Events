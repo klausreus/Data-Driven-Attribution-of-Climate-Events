{
 "cells": [
  {
   "cell_type": "markdown",
   "metadata": {},
   "source": [
    "# Data Preprocessing\n",
    "***"
   ]
  },
  {
   "cell_type": "code",
   "execution_count": 1,
   "metadata": {},
   "outputs": [],
   "source": [
    "import numpy as np\n",
    "import pandas as pd\n",
    "import xarray as xr\n",
    "\n",
    "import matplotlib.pyplot as plt\n",
    "%matplotlib inline\n",
    "\n",
    "from sklearn.decomposition import PCA\n",
    "from sklearn.preprocessing import StandardScaler"
   ]
  },
  {
   "cell_type": "markdown",
   "metadata": {},
   "source": [
    "<br>\n",
    "\n",
    "## Features\n",
    "***\n",
    "**Outline**  \n",
    "[Principal Component Analysis](https://towardsdatascience.com/pca-using-python-scikit-learn-e653f8989e60 \"Towards Data Sciene | PCA using Python (scikit-learn)\") & \n",
    "[Data loading & preprocessing](https://keras.io/getting_started/intro_to_keras_for_engineers/#data-loading-amp-preprocessing \"Keras\") \n",
    "1. Load and normalize data\n",
    "2. Apply PCA transformation\n",
    "3. Normalize principal components"
   ]
  },
  {
   "cell_type": "markdown",
   "metadata": {},
   "source": [
    "<br>\n",
    "\n",
    "### 1. Loading & Normalization"
   ]
  },
  {
   "cell_type": "markdown",
   "metadata": {},
   "source": [
    "**pred:** contains the data used for the inputs  <br>"
   ]
  },
  {
   "cell_type": "code",
   "execution_count": 2,
   "metadata": {},
   "outputs": [],
   "source": [
    "feat = xr.open_dataset('data/da_pred_all.nc').to_dataframe()\n",
    "\n",
    "feat_unit = pd.DataFrame(\n",
    "    data = StandardScaler().fit_transform(feat), \n",
    "    columns = feat.columns,\n",
    "    index =  feat.index\n",
    ")\n",
    "\n",
    "# print(feat_unit.mean())\n",
    "# print(feat_unit.std())\n",
    "# display(feat_unit)\n",
    "# display(feat_unit.describe())"
   ]
  },
  {
   "cell_type": "markdown",
   "metadata": {},
   "source": [
    "<br>\n",
    "\n",
    "### 2. PCA"
   ]
  },
  {
   "cell_type": "code",
   "execution_count": 3,
   "metadata": {},
   "outputs": [],
   "source": [
    "# Scikit pca transformation\n",
    "pca = PCA().fit(feat_unit)\n",
    "\n",
    "pca_components = pd.DataFrame(\n",
    "    data = pca.components_\n",
    ")\n",
    "\n",
    "feat_pc = pd.DataFrame(\n",
    "    data = np.dot(feat_unit - pca.mean_, pca_components.T),\n",
    "    columns = [f'PC{i}' for i in range(1, 21)],\n",
    "    index =  feat.index\n",
    ")    \n",
    "\n",
    "# print(feat_pc.mean())\n",
    "# print(feat_pc.std())\n",
    "# display(feat_pc)\n",
    "# display(feat_pc.describe())"
   ]
  },
  {
   "cell_type": "markdown",
   "metadata": {},
   "source": [
    "<br>\n",
    "\n",
    "### 3. Normalize Principal Components"
   ]
  },
  {
   "cell_type": "code",
   "execution_count": 4,
   "metadata": {},
   "outputs": [],
   "source": [
    "feat_pc = pd.DataFrame(\n",
    "    data = StandardScaler().fit_transform(feat_pc), \n",
    "    columns = feat_pc.columns,\n",
    "    index =  feat_pc.index\n",
    ")\n",
    "\n",
    "# print(feat_pc.mean())\n",
    "# print(feat_pc.std())\n",
    "# display(feat_pc)\n",
    "# display(feat_pc.describe())"
   ]
  },
  {
   "cell_type": "markdown",
   "metadata": {},
   "source": [
    "<br>\n",
    "\n",
    "## Labels\n",
    "---"
   ]
  },
  {
   "cell_type": "markdown",
   "metadata": {},
   "source": [
    "**label:** from Sahelrainfall data serves as validation data"
   ]
  },
  {
   "cell_type": "code",
   "execution_count": 5,
   "metadata": {},
   "outputs": [],
   "source": [
    "# load validatoin data (Summer Rainfall over Sahel) \n",
    "labels = np.mean(np.loadtxt(\"data/da_o_sahelprecip19012017.txt\", skiprows=8,)[:,7:10] * 0.01,  axis=1)\n",
    "\n",
    "# eventually normlaize output as well\n",
    "# labels = np.squeeze(StandardScaler().fit_transform(np.reshape(labels, (117,1))))\n",
    "\n",
    "# display(labels)"
   ]
  },
  {
   "cell_type": "markdown",
   "metadata": {},
   "source": [
    "<br>\n",
    "\n",
    "## Merge to Xarray DataSet\n",
    "---"
   ]
  },
  {
   "cell_type": "code",
   "execution_count": 6,
   "metadata": {},
   "outputs": [],
   "source": [
    "model_data = xr.Dataset(\n",
    "    data_vars=dict(\n",
    "        feat_pc = (['year', 'pc'], feat_pc),\n",
    "        labels = (['year'],labels),\n",
    "        pca_componens = (['n_components', 'n_features'], pca_components),\n",
    "    ),\n",
    "    coords=dict(\n",
    "        year = feat_pc.index,\n",
    "        pc = feat_pc.columns,\n",
    "        n_features = range(20),\n",
    "        n_components = range(20)\n",
    "    )\n",
    ")\n",
    "\n",
    "model_data.to_netcdf('data/da_final_badr.nc')\n",
    "\n",
    "# display(model_data)"
   ]
  },
  {
   "cell_type": "markdown",
   "metadata": {},
   "source": [
    "<br>\n",
    "\n",
    "## Explained Vairance\n",
    "---"
   ]
  },
  {
   "cell_type": "code",
   "execution_count": 7,
   "metadata": {},
   "outputs": [
    {
     "data": {
      "image/png": "[encoded data removed]",
      "text/plain": [
       "<Figure size 1000x300 with 1 Axes>"
      ]
     },
     "metadata": {
      "needs_background": "light"
     },
     "output_type": "display_data"
    }
   ],
   "source": [
    "plt.figure(figsize=[10, 3], dpi=100)\n",
    "\n",
    "plt.bar(feat_pc.columns, pca.explained_variance_ratio_, width=0.5)\n",
    "\n",
    "plt.xlabel(\"PC\")\n",
    "plt.ylabel(\"Fraction of Variance\")\n",
    "plt.ylim(0, 0.45)\n",
    "\n",
    "plt.tick_params(axis='x',which='minor', labelsize=11)\n",
    "\n",
    "plt.tight_layout()\n",
    "plt.savefig('./fig/badr_pc_var.png', facecolor='w')"
   ]
  }
 ],
 "metadata": {
  "kernelspec": {
   "display_name": "Python 3",
   "language": "python",
   "name": "python3"
  },
  "language_info": {
   "codemirror_mode": {
    "name": "ipython",
    "version": 3
   },
   "file_extension": ".py",
   "mimetype": "text/x-python",
   "name": "python",
   "nbconvert_exporter": "python",
   "pygments_lexer": "ipython3",
   "version": "3.8.8"
  }
 },
 "nbformat": 4,
 "nbformat_minor": 4
}
