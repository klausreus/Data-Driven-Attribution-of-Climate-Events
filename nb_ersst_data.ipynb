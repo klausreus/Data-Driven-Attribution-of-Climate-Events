{
 "cells": [
  {
   "cell_type": "code",
   "execution_count": 1,
   "metadata": {},
   "outputs": [],
   "source": [
    "import numpy as np\n",
    "import pandas as pd\n",
    "import xarray as xr"
   ]
  },
  {
   "cell_type": "code",
   "execution_count": 4,
   "metadata": {},
   "outputs": [],
   "source": [
    "ersst = xr.open_dataset(\"./ersst/data_ersst.188001.nc\")  # first data file\n",
    "\n",
    "for month in range(2, 13):  # loop through rest of first year\n",
    "    ersst = xr.concat(\n",
    "        [ersst, xr.open_dataset(f\"./ersst/data_ersst.1880{month:02d}.nc\")], dim=\"time\",\n",
    "    )\n",
    "\n",
    "for yr in range(1881, 2021):  # loop through rest of data files until final: 202010\n",
    "    for month in range(1, 13):\n",
    "        ersst = xr.concat(\n",
    "            [ersst, xr.open_dataset(f\"./ersst/data_ersst.{yr}{month:02d}.nc\")],\n",
    "            dim=\"time\",\n",
    "        )\n",
    "        if yr == 2020 and month == 10:\n",
    "            break\n",
    "\n",
    "# new time axis due to inhomogenity in single data files\n",
    "ersst = ersst.assign_coords(\n",
    "    time=(\"time\", pd.date_range(\"1880-1-1\", \"2020-10-1\", freq=\"MS\"))\n",
    ")"
   ]
  },
  {
   "cell_type": "code",
   "execution_count": 5,
   "metadata": {},
   "outputs": [],
   "source": [
    "ersst.to_netcdf(\"data_ersst.nc\")"
   ]
  },
  {
   "cell_type": "markdown",
   "metadata": {},
   "source": [
    "### Caution:\n",
    "\n",
    "unsure about the basis of the anomaly values"
   ]
  },
  {
   "cell_type": "code",
   "execution_count": null,
   "metadata": {},
   "outputs": [],
   "source": []
  }
 ],
 "metadata": {
  "kernelspec": {
   "display_name": "Python 3",
   "language": "python",
   "name": "python3"
  },
  "language_info": {
   "codemirror_mode": {
    "name": "ipython",
    "version": 3
   },
   "file_extension": ".py",
   "mimetype": "text/x-python",
   "name": "python",
   "nbconvert_exporter": "python",
   "pygments_lexer": "ipython3",
   "version": "3.8.5"
  }
 },
 "nbformat": 4,
 "nbformat_minor": 4
}
