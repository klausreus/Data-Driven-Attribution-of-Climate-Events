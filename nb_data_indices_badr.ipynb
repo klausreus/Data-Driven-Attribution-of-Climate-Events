{
 "cells": [
  {
   "cell_type": "markdown",
   "metadata": {},
   "source": [
    "# Calculate predictors\n",
    "\n",
    "#### ERSST Predictors (6)\n",
    "* SIOD_E\n",
    "* SIOD_W\n",
    "* SST_Med\n",
    "* TSA\n",
    "* TNA\n",
    "* SST_mdr\n",
    "\n",
    "#### SATA Predictors (4)\n",
    "* lnh\n",
    "* lsh\n",
    "* onh\n",
    "* osh\n",
    "\n",
    "#### 2-D (year x month) textfiles (10)\n",
    "* SOI (2)\n",
    "* AMO\n",
    "* NAO\n",
    "* PDO\n",
    "* NP\n",
    "* Ninos (4)"
   ]
  },
  {
   "cell_type": "markdown",
   "metadata": {},
   "source": [
    "### Import packages"
   ]
  },
  {
   "cell_type": "code",
   "execution_count": 1,
   "metadata": {},
   "outputs": [],
   "source": [
    "import numpy as np\n",
    "import pandas as pd\n",
    "import xarray as xr"
   ]
  },
  {
   "cell_type": "markdown",
   "metadata": {},
   "source": [
    "# Temporal Range for all indices:\n",
    "\n",
    "Months: AMJ\\\n",
    "Years: 1901 - 2017"
   ]
  },
  {
   "cell_type": "code",
   "execution_count": 2,
   "metadata": {},
   "outputs": [],
   "source": [
    "month_s = 4  # April\n",
    "month_e = 6  # June\n",
    "year_s = 1901\n",
    "year_e = 2017"
   ]
  },
  {
   "cell_type": "markdown",
   "metadata": {},
   "source": [
    "# ERSST Predictors (6)"
   ]
  },
  {
   "cell_type": "markdown",
   "metadata": {},
   "source": [
    "### Define function to select subset, calculate mean, and save to new file\n",
    "\n",
    "This function creates one seasonal value for each year that is regionally averaged.\\\n",
    "It uses raw data - not anomalies or detrended.\n",
    "\n",
    "Can Handle Lon = 0:359 if area crosses 180 meridian\\\n",
    "Or Lon = -180:179 if are crosses 0 median\n",
    "\n",
    "Missing values are already **nan**"
   ]
  },
  {
   "cell_type": "code",
   "execution_count": 4,
   "metadata": {},
   "outputs": [],
   "source": [
    "def index_from_ersst(\n",
    "    name, month_s, month_e, year_s, year_e, lat_s, lat_e, lon_s, lon_e\n",
    "):\n",
    "    ersst = xr.open_dataset(\"data/da_my_ersst.nc\").sst\n",
    "    ersst = ersst.rename(name).squeeze().drop(\"lev\")\n",
    "    if np.sign(lon_s) == -1:  # test for input longitude sign and eventually reshape dataset\n",
    "        i = ersst.lon\n",
    "        ersst = xr.concat(\n",
    "            [ersst.sel(lon=i[(i >= 180)]), ersst.sel(lon=i[(i < 180)])], dim=\"lon\"\n",
    "        )\n",
    "        ersst = ersst.assign_coords({\"lon\": (((ersst.lon + 180) % 360) - 180)})\n",
    "        print(\"data has been reshaped\")\n",
    "\n",
    "    # Now call data in given time and space range and compute means, then save data array to new file\n",
    "\n",
    "    ersst = (\n",
    "        ersst.sel(\n",
    "            time=(ersst[\"time.month\"] >= month_s)\n",
    "            & (ersst[\"time.month\"] <= month_e)\n",
    "            & (ersst[\"time.year\"] >= year_s)\n",
    "            & (ersst[\"time.year\"] <= year_e),\n",
    "            lat=slice(lat_s, lat_e),\n",
    "            lon=slice(lon_s, lon_e),\n",
    "        )\n",
    "        .groupby(\"time.year\")\n",
    "        .mean((\"time\", \"lat\", \"lon\"))\n",
    "    )\n",
    "    ersst.to_netcdf(f\"data/da_pred_{name}.nc\")\n",
    "    return ersst"
   ]
  },
  {
   "cell_type": "markdown",
   "metadata": {},
   "source": [
    "### SIOD_E - (Eastern Suntropical Indian Ocean)"
   ]
  },
  {
   "cell_type": "code",
   "execution_count": 5,
   "metadata": {},
   "outputs": [],
   "source": [
    "name = \"siod_e\"\n",
    "lat_s = -28\n",
    "lat_e = -18\n",
    "lon_s = 90\n",
    "lon_e = 100\n",
    "\n",
    "siod_e = index_from_ersst(\n",
    "    name, month_s, month_e, year_s, year_e, lat_s, lat_e, lon_s, lon_e\n",
    ")"
   ]
  },
  {
   "cell_type": "markdown",
   "metadata": {},
   "source": [
    "### SIOD_W - (Western Subtropical Indian Ocean)"
   ]
  },
  {
   "cell_type": "code",
   "execution_count": 6,
   "metadata": {},
   "outputs": [],
   "source": [
    "name = \"siod_w\"\n",
    "lat_s = -37\n",
    "lat_e = -27\n",
    "lon_s = 55\n",
    "lon_e = 65\n",
    "\n",
    "siod_w = index_from_ersst(\n",
    "    name, month_s, month_e, year_s, year_e, lat_s, lat_e, lon_s, lon_e\n",
    ")"
   ]
  },
  {
   "cell_type": "markdown",
   "metadata": {},
   "source": [
    "### SST_Med - (Mediterranean Sea)"
   ]
  },
  {
   "cell_type": "code",
   "execution_count": 7,
   "metadata": {},
   "outputs": [],
   "source": [
    "name = \"sst_med\"\n",
    "lat_s = 30\n",
    "lat_e = 45\n",
    "lon_s = 0\n",
    "lon_e = 25\n",
    "\n",
    "sst_med = index_from_ersst(\n",
    "    name, month_s, month_e, year_s, year_e, lat_s, lat_e, lon_s, lon_e\n",
    ")"
   ]
  },
  {
   "cell_type": "markdown",
   "metadata": {},
   "source": [
    "### TSA - (Tropical South Atlantic)"
   ]
  },
  {
   "cell_type": "code",
   "execution_count": 8,
   "metadata": {},
   "outputs": [
    {
     "name": "stdout",
     "output_type": "stream",
     "text": [
      "data has been reshaped\n"
     ]
    }
   ],
   "source": [
    "name = \"tsa\"\n",
    "lat_s = -20\n",
    "lat_e = 0\n",
    "lon_s = -30\n",
    "lon_e = 10\n",
    "\n",
    "tsa = index_from_ersst(\n",
    "    name, month_s, month_e, year_s, year_e, lat_s, lat_e, lon_s, lon_e\n",
    ")"
   ]
  },
  {
   "cell_type": "markdown",
   "metadata": {},
   "source": [
    "### TNA - (Tropical North Atlantic)"
   ]
  },
  {
   "cell_type": "code",
   "execution_count": 9,
   "metadata": {},
   "outputs": [
    {
     "name": "stdout",
     "output_type": "stream",
     "text": [
      "data has been reshaped\n"
     ]
    }
   ],
   "source": [
    "name = \"tna\"\n",
    "lat_s = 5\n",
    "lat_e = 25\n",
    "lon_s = -55\n",
    "lon_e = -15\n",
    "\n",
    "tna = index_from_ersst(\n",
    "    name, month_s, month_e, year_s, year_e, lat_s, lat_e, lon_s, lon_e\n",
    ")"
   ]
  },
  {
   "cell_type": "markdown",
   "metadata": {},
   "source": [
    "### SST_MDR - (Hurricane main development region)"
   ]
  },
  {
   "cell_type": "code",
   "execution_count": 10,
   "metadata": {},
   "outputs": [
    {
     "name": "stdout",
     "output_type": "stream",
     "text": [
      "data has been reshaped\n"
     ]
    }
   ],
   "source": [
    "name = \"sst_mdr\"\n",
    "lat_s = 10\n",
    "lat_e = 20\n",
    "lon_s = -85\n",
    "lon_e = -20\n",
    "\n",
    "sst_mdr = index_from_ersst(\n",
    "    name, month_s, month_e, year_s, year_e, lat_s, lat_e, lon_s, lon_e\n",
    ")"
   ]
  },
  {
   "cell_type": "markdown",
   "metadata": {},
   "source": [
    "# SATA Predictors (4)\n",
    "#### Surface Air Temperature Anomaly:\n",
    "* Land Northern Hemisphere (LNH)\n",
    "* Land Southern Hemisphere (LSH)\n",
    "* Ocena Northern Hemisphere (ONH)\n",
    "* Ocean Southern Hemisphere (OSH)\n",
    "\n",
    "This data comes in global monthly means.\\\n",
    "Here the according seasonal means are computed"
   ]
  },
  {
   "cell_type": "markdown",
   "metadata": {},
   "source": [
    "Load the four SATA files and merge them together in one xarray ds and **set missing values to NAN**"
   ]
  },
  {
   "cell_type": "code",
   "execution_count": 11,
   "metadata": {},
   "outputs": [],
   "source": [
    "# function to laod csv files as pandas df and renames index and variable\n",
    "def load_sata(name):\n",
    "    a = (\n",
    "        pd.read_csv(f\"data/da_o_sata_{name}.csv\", header=4)\n",
    "        .rename(columns={\"Value\": f\"sata_{name}\", \"Year\": \"time\"})\n",
    "        .set_index(\"time\")\n",
    "    )\n",
    "    return a\n",
    "\n",
    "\n",
    "# use function to load and concat the four time series\n",
    "sata = pd.concat(\n",
    "    [load_sata(\"lnh\"), load_sata(\"lsh\"), load_sata(\"onh\"), load_sata(\"osh\")], axis=1\n",
    ").to_xarray()\n",
    "\n",
    "\n",
    "#set missing values (-999) to nan\n",
    "sata = sata.where(sata != -999)"
   ]
  },
  {
   "cell_type": "markdown",
   "metadata": {},
   "source": [
    "Select temporal range, compute seasonal means and save data to new file"
   ]
  },
  {
   "cell_type": "code",
   "execution_count": 12,
   "metadata": {},
   "outputs": [],
   "source": [
    "# assign daterange time coordinate for better handling\n",
    "sata = sata.assign_coords(\n",
    "    time=(\"time\", pd.date_range(\"1880-1-1\", \"2020-10-1\", freq=\"MS\"))\n",
    ")\n",
    "\n",
    "# select time range, compute seasonal mean\n",
    "sata = (\n",
    "    sata.sel(\n",
    "        time=(sata[\"time.month\"] >= month_s)\n",
    "        & (sata[\"time.month\"] <= month_e)\n",
    "        & (sata[\"time.year\"] >= year_s)\n",
    "        & (sata[\"time.year\"] <= year_e),\n",
    "    )\n",
    "    .groupby(\"time.year\")\n",
    "    .mean(\"time\")\n",
    ")\n",
    "\n",
    "# Save data to new file\n",
    "sata.to_netcdf(\"datada_pred_sata_all.nc\")"
   ]
  },
  {
   "cell_type": "markdown",
   "metadata": {},
   "source": [
    "\n",
    "# 2-D (year x month) text data (10)\n",
    "\n",
    "- SOI (2)\n",
    "- AMO\n",
    "- NAO\n",
    "- ninos (4)\n",
    "- PDO\n",
    "- NP"
   ]
  },
  {
   "cell_type": "markdown",
   "metadata": {},
   "source": [
    "## Workflow for each data file:\n",
    "\n",
    "#### 1. Load the two text files into one Xarray Data Set and set coordinate axes:\n",
    "#### 2. Set missing values to **NAN**\n",
    "#### 3. Apply Select and Save function"
   ]
  },
  {
   "cell_type": "code",
   "execution_count": 13,
   "metadata": {},
   "outputs": [],
   "source": [
    "# select time range, compute seasonal mean, save data to predictoer file\n",
    "def sel_seasonal_pred(var, file_name):\n",
    "    \n",
    "    i = var.month\n",
    "    ii = var.year\n",
    "    \n",
    "    var = var.sel(\n",
    "        month=i[(i >= month_s) & (i <= month_e)],\n",
    "        year=ii[(ii >= year_s) & (ii <= year_e)],\n",
    "    ).mean('month')\n",
    "    \n",
    "    # Save data to new file\n",
    "    var.to_netcdf(f\"data/da_pred_{file_name}.nc\")\n",
    "    return var"
   ]
  },
  {
   "cell_type": "markdown",
   "metadata": {},
   "source": [
    "# SOI (Souther Oscillation Index) (2)\n",
    "## Darwin and Tahiti SLP"
   ]
  },
  {
   "cell_type": "code",
   "execution_count": 14,
   "metadata": {},
   "outputs": [],
   "source": [
    "# load both files into one xarray\n",
    "soi = xr.Dataset(\n",
    "    data_vars={\n",
    "        \"slp_darwin\": ((\"year\", \"month\"), np.loadtxt(\"data/da_o_soi_dar.txt\")[:, 1:]),\n",
    "        \"slp_tahiti\": ((\"year\", \"month\"), np.loadtxt(\"data/da_o_soi_tah.txt\")[:, 1:]),\n",
    "    },\n",
    "    coords={\n",
    "        \"year\": np.arange(1855, 2021),\n",
    "        \"month\": np.arange(1, 13),\n",
    "    },\n",
    "    attrs={\"unit\": \"hPa\"},\n",
    ")\n",
    "\n",
    "\n",
    "\n",
    "\n",
    "\n",
    "#set missing values (-990) to nan\n",
    "soi = soi.where(soi != -990)\n",
    "\n",
    "\n",
    "\n",
    "\n",
    "\n",
    "#Use function to: Select temporal range, compute seasonal means and save data to new file\n",
    "soi = sel_seasonal_pred(soi, 'soi_all')"
   ]
  },
  {
   "cell_type": "markdown",
   "metadata": {},
   "source": [
    "# AMO (Atlantic Multidecadal Oscillation) (1)"
   ]
  },
  {
   "cell_type": "code",
   "execution_count": 15,
   "metadata": {},
   "outputs": [],
   "source": [
    "# load file into xarray\n",
    "amo = xr.DataArray(\n",
    "    data=np.loadtxt(open('data/da_o_amo_detrend.txt').readlines()[:-4], skiprows=1)[:,1:],  # use nested open to skip bottom lines string text, and first column (years)\n",
    "    dims=(\"year\", \"month\"),\n",
    "    name=\"amo\",\n",
    "    coords={\n",
    "        \"year\": np.loadtxt(open('data/da_o_amo_detrend.txt').readlines()[:-4], skiprows=1)[:,0],\n",
    "        \"month\": np.arange(1, 13),\n",
    "    },\n",
    "    attrs={\"unit\": \"degree C\"},\n",
    ")\n",
    "\n",
    "\n",
    "\n",
    "\n",
    "#set missing values (-99.99) to nan\n",
    "amo = amo.where(amo != -99.99)\n",
    "\n",
    "\n",
    "\n",
    "\n",
    "#Use function to: Select temporal range, compute seasonal means and save data to new file\n",
    "amo = sel_seasonal_pred(amo, 'amo')"
   ]
  },
  {
   "cell_type": "markdown",
   "metadata": {},
   "source": [
    "# NAO (North Atlantik Oscillation)(1)"
   ]
  },
  {
   "cell_type": "code",
   "execution_count": 16,
   "metadata": {},
   "outputs": [],
   "source": [
    "# load file into xarray\n",
    "nao = xr.DataArray(\n",
    "    data=np.loadtxt(open('data/da_o_nao.txt').readlines()[:-6], skiprows=1)[:,1:],  # use nested open to skip bottom lines string text, and first column (years)\n",
    "    dims=(\"year\", \"month\"),\n",
    "    name=\"nao\",\n",
    "    coords={\n",
    "        \"year\": np.loadtxt(open('data/da_o_nao.txt').readlines()[:-6], skiprows=1)[:,0],\n",
    "        \"month\": np.arange(1, 13),\n",
    "    },\n",
    "    attrs={\"unit\": \"index\"},\n",
    ")\n",
    "\n",
    "\n",
    "\n",
    "\n",
    "#set missing values (-99.99) to nan\n",
    "nao = nao.where(nao != -99.99)\n",
    "\n",
    "\n",
    "\n",
    "\n",
    "#Use function to: Select temporal range, compute seasonal means and save data to new file\n",
    "nao = sel_seasonal_pred(nao, 'nao')"
   ]
  },
  {
   "cell_type": "markdown",
   "metadata": {},
   "source": [
    "# NINO (4)\n",
    "## 1.2 , 3 , 3.4 and 4"
   ]
  },
  {
   "cell_type": "code",
   "execution_count": 17,
   "metadata": {},
   "outputs": [],
   "source": [
    "# load all 4 files into one xarray\n",
    "nino = xr.Dataset(\n",
    "    data_vars={\n",
    "        \"nino12\": ((\"year\", \"month\"), np.loadtxt(open('data/da_o_nino12.txt').readlines()[:-5], skiprows=1)[:,1:]),\n",
    "        \"nino3\": ((\"year\", \"month\"), np.loadtxt(open('data/da_o_nino3.txt').readlines()[:-5], skiprows=1)[:,1:]),\n",
    "        \"nino34\": ((\"year\", \"month\"), np.loadtxt(open('data/da_o_nino34.txt').readlines()[:-5], skiprows=1)[:,1:]),\n",
    "        \"nino4\": ((\"year\", \"month\"), np.loadtxt(open('data/da_o_nino4.txt').readlines()[:-5], skiprows=1)[:,1:])\n",
    "    },\n",
    "    coords={\n",
    "        \"year\": np.loadtxt(open('data/da_o_nino12.txt').readlines()[:-5], skiprows=1)[:,0],\n",
    "        \"month\": np.arange(1, 13),\n",
    "    },\n",
    "    attrs={\"unit\": \"SST\"},\n",
    ")\n",
    "\n",
    "\n",
    "\n",
    "\n",
    "\n",
    "#set missing values (-99.99) to nan\n",
    "nino = nino.where(nino != -99.99)\n",
    "\n",
    "\n",
    "\n",
    "\n",
    "\n",
    "#Use function to: Select temporal range, compute seasonal means and save data to new file\n",
    "nino = sel_seasonal_pred(nino, 'nino_all')"
   ]
  },
  {
   "cell_type": "markdown",
   "metadata": {},
   "source": [
    "# PDO (Pacific Decadal Oscillation)(1)"
   ]
  },
  {
   "cell_type": "code",
   "execution_count": 18,
   "metadata": {},
   "outputs": [],
   "source": [
    "# load file into xarray\n",
    "pdo = xr.DataArray(\n",
    "    data=np.loadtxt(open('data/da_my_pdo_jisao.txt').readlines()[:-12], skiprows=32)[:,1:],  # use nested open to skip bottom lines string text, and first column (years)\n",
    "    dims=(\"year\", \"month\"),\n",
    "    name=\"pdo\",\n",
    "    coords={\n",
    "        \"year\": np.loadtxt(open('data/da_my_pdo_jisao.txt').readlines()[:-12], skiprows=32)[:,0],\n",
    "        \"month\": np.arange(1, 13),\n",
    "    },\n",
    "    attrs={\"unit\": \"index\"},\n",
    ")\n",
    "\n",
    "\n",
    "\n",
    "\n",
    "\n",
    "#set missing values (-99.99) to nan\n",
    "pdo = pdo.where(pdo != -99.99)\n",
    "\n",
    "\n",
    "\n",
    "\n",
    "\n",
    "#Use function to: Select temporal range, compute seasonal means and save data to new file\n",
    "pdo = sel_seasonal_pred(pdo, 'pdo')"
   ]
  },
  {
   "cell_type": "markdown",
   "metadata": {},
   "source": [
    "# NP (North Pacific Pattern)(1)"
   ]
  },
  {
   "cell_type": "code",
   "execution_count": 19,
   "metadata": {},
   "outputs": [],
   "source": [
    "# load file into xarray\n",
    "np = xr.DataArray(\n",
    "    data=np.loadtxt(open('data/da_o_np.txt').readlines()[:-6], skiprows=1)[:,1:],  # use nested open to skip bottom lines string text, and first column (years)\n",
    "    dims=(\"year\", \"month\"),\n",
    "    name=\"np\",\n",
    "    coords={\n",
    "        \"year\": np.loadtxt(open('data/da_o_np.txt').readlines()[:-6], skiprows=1)[:,0],\n",
    "        \"month\": np.arange(1, 13),\n",
    "    },\n",
    "    attrs={\"unit\": \"index\"},\n",
    ")\n",
    "\n",
    "\n",
    "\n",
    "\n",
    "\n",
    "#set missing values (-999.00) to nan\n",
    "np = np.where(np != -999.00)\n",
    "\n",
    "\n",
    "\n",
    "\n",
    "\n",
    "#Use function to: Select temporal range, compute seasonal means and save data to new file\n",
    "np = sel_seasonal_pred(np, 'np')"
   ]
  },
  {
   "cell_type": "markdown",
   "metadata": {},
   "source": [
    "# Merge and save all Variables"
   ]
  },
  {
   "cell_type": "code",
   "execution_count": 24,
   "metadata": {},
   "outputs": [],
   "source": [
    "xr.merge([\n",
    "    siod_e, \n",
    "    siod_w,\n",
    "    sst_med, \n",
    "    tsa, \n",
    "    tna, \n",
    "    sst_mdr, \n",
    "    sata, \n",
    "    soi, \n",
    "    amo, \n",
    "    nao, \n",
    "    pdo, \n",
    "    np, \n",
    "    nino\n",
    "]).to_netcdf(\"data/da_pred_all.nc\")"
   ]
  }
 ],
 "metadata": {
  "kernelspec": {
   "display_name": "Python 3",
   "language": "python",
   "name": "python3"
  },
  "language_info": {
   "codemirror_mode": {
    "name": "ipython",
    "version": 3
   },
   "file_extension": ".py",
   "mimetype": "text/x-python",
   "name": "python",
   "nbconvert_exporter": "python",
   "pygments_lexer": "ipython3",
   "version": "3.8.6"
  }
 },
 "nbformat": 4,
 "nbformat_minor": 4
}
